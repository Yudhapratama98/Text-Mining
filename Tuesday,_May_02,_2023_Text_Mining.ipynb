{
  "cells": [
    {
      "cell_type": "markdown",
      "metadata": {
        "id": "URalW3Dcdfz4"
      },
      "source": [
        "## **Latihan Text Mining**"
      ]
    },
    {
      "cell_type": "markdown",
      "metadata": {
        "id": "QaQkmgN-dfz8"
      },
      "source": [
        "### **Gunakan dataset spam_or_not_spam**\n",
        "\n",
        "\n",
        "* Preprocess data, gunakan lemmatization dan TF-IDF sebagai bagian dari preprocessing.  \n",
        "* Lakukan eksplorasi data dengan menampilkan:\n",
        "    - words frequency\n",
        "    - wordcloud  \n",
        "    - sentences length dari spam vs not spam.     \n",
        "* Untuk text classification, coba gunakan model logistic regression.\n",
        "* Lakukanlah tuning pada model tersebut, lalu bandingkan hasil sebelum dan sesudah tuning."
      ]
    },
    {
      "cell_type": "markdown",
      "metadata": {
        "id": "XNkTCSxFdf0B"
      },
      "source": [
        "## **Import libraries**"
      ]
    },
    {
      "cell_type": "code",
      "execution_count": null,
      "metadata": {
        "id": "h0bYo5d7df0E"
      },
      "outputs": [],
      "source": [
        "import pandas as pd\n",
        "import numpy as np\n",
        "import matplotlib.pyplot as plt\n",
        "import seaborn as sns\n",
        "\n",
        "import re\n",
        "\n",
        "import warnings\n",
        "warnings.filterwarnings('ignore')"
      ]
    },
    {
      "cell_type": "markdown",
      "metadata": {
        "id": "Dp9_77n5df0G"
      },
      "source": [
        "## **Load dataset**"
      ]
    },
    {
      "cell_type": "code",
      "execution_count": null,
      "metadata": {
        "id": "_1Eok4sddf0H",
        "outputId": "55b0e665-002d-4002-8c51-1f1f60609c27"
      },
      "outputs": [
        {
          "data": {
            "text/html": [
              "<div>\n",
              "<style scoped>\n",
              "    .dataframe tbody tr th:only-of-type {\n",
              "        vertical-align: middle;\n",
              "    }\n",
              "\n",
              "    .dataframe tbody tr th {\n",
              "        vertical-align: top;\n",
              "    }\n",
              "\n",
              "    .dataframe thead th {\n",
              "        text-align: right;\n",
              "    }\n",
              "</style>\n",
              "<table border=\"1\" class=\"dataframe\">\n",
              "  <thead>\n",
              "    <tr style=\"text-align: right;\">\n",
              "      <th></th>\n",
              "      <th>email</th>\n",
              "      <th>label</th>\n",
              "    </tr>\n",
              "  </thead>\n",
              "  <tbody>\n",
              "    <tr>\n",
              "      <th>0</th>\n",
              "      <td>date wed NUMBER aug NUMBER NUMBER NUMBER NUMB...</td>\n",
              "      <td>0</td>\n",
              "    </tr>\n",
              "    <tr>\n",
              "      <th>1</th>\n",
              "      <td>martin a posted tassos papadopoulos the greek ...</td>\n",
              "      <td>0</td>\n",
              "    </tr>\n",
              "    <tr>\n",
              "      <th>2</th>\n",
              "      <td>man threatens explosion in moscow thursday aug...</td>\n",
              "      <td>0</td>\n",
              "    </tr>\n",
              "    <tr>\n",
              "      <th>3</th>\n",
              "      <td>klez the virus that won t die already the most...</td>\n",
              "      <td>0</td>\n",
              "    </tr>\n",
              "    <tr>\n",
              "      <th>4</th>\n",
              "      <td>in adding cream to spaghetti carbonara which ...</td>\n",
              "      <td>0</td>\n",
              "    </tr>\n",
              "    <tr>\n",
              "      <th>...</th>\n",
              "      <td>...</td>\n",
              "      <td>...</td>\n",
              "    </tr>\n",
              "    <tr>\n",
              "      <th>2995</th>\n",
              "      <td>abc s good morning america ranks it the NUMBE...</td>\n",
              "      <td>1</td>\n",
              "    </tr>\n",
              "    <tr>\n",
              "      <th>2996</th>\n",
              "      <td>hyperlink hyperlink hyperlink let mortgage le...</td>\n",
              "      <td>1</td>\n",
              "    </tr>\n",
              "    <tr>\n",
              "      <th>2997</th>\n",
              "      <td>thank you for shopping with us gifts for all ...</td>\n",
              "      <td>1</td>\n",
              "    </tr>\n",
              "    <tr>\n",
              "      <th>2998</th>\n",
              "      <td>the famous ebay marketing e course learn to s...</td>\n",
              "      <td>1</td>\n",
              "    </tr>\n",
              "    <tr>\n",
              "      <th>2999</th>\n",
              "      <td>hello this is chinese traditional 子 件 NUMBER世...</td>\n",
              "      <td>1</td>\n",
              "    </tr>\n",
              "  </tbody>\n",
              "</table>\n",
              "<p>3000 rows × 2 columns</p>\n",
              "</div>"
            ],
            "text/plain": [
              "                                                  email  label\n",
              "0      date wed NUMBER aug NUMBER NUMBER NUMBER NUMB...      0\n",
              "1     martin a posted tassos papadopoulos the greek ...      0\n",
              "2     man threatens explosion in moscow thursday aug...      0\n",
              "3     klez the virus that won t die already the most...      0\n",
              "4      in adding cream to spaghetti carbonara which ...      0\n",
              "...                                                 ...    ...\n",
              "2995   abc s good morning america ranks it the NUMBE...      1\n",
              "2996   hyperlink hyperlink hyperlink let mortgage le...      1\n",
              "2997   thank you for shopping with us gifts for all ...      1\n",
              "2998   the famous ebay marketing e course learn to s...      1\n",
              "2999   hello this is chinese traditional 子 件 NUMBER世...      1\n",
              "\n",
              "[3000 rows x 2 columns]"
            ]
          },
          "execution_count": 391,
          "metadata": {},
          "output_type": "execute_result"
        }
      ],
      "source": [
        "df = pd.read_csv('spam_or_not_spam.csv')\n",
        "df"
      ]
    },
    {
      "cell_type": "code",
      "execution_count": null,
      "metadata": {
        "id": "wZ3CYkrfdf0I",
        "outputId": "c4547b4f-7c98-43a8-89bc-a3eb548a5e7b"
      },
      "outputs": [
        {
          "data": {
            "text/plain": [
              "0    2500\n",
              "1     500\n",
              "Name: label, dtype: int64"
            ]
          },
          "execution_count": 392,
          "metadata": {},
          "output_type": "execute_result"
        }
      ],
      "source": [
        "df['label'].value_counts()"
      ]
    },
    {
      "cell_type": "code",
      "execution_count": null,
      "metadata": {
        "id": "7qiq3Evcdf0J"
      },
      "outputs": [],
      "source": [
        "# Change email dtype to string\n",
        "df['email'] = df['email'].astype(str)"
      ]
    },
    {
      "cell_type": "markdown",
      "metadata": {
        "id": "aE2LLLg9df0K"
      },
      "source": [
        "## **Text Preprocessing 1**"
      ]
    },
    {
      "cell_type": "markdown",
      "metadata": {
        "id": "8GBgbInrdf0L"
      },
      "source": [
        "**Methods:**\n",
        "\n",
        "1. Converting to lower case\n",
        "2. Contraction\n",
        "3. Remove or convert number into text\n",
        "4. Remove punctuation\n",
        "5. Remove white spaces\n",
        "6. Remove stopwords and particular words"
      ]
    },
    {
      "cell_type": "markdown",
      "metadata": {
        "id": "VUggMQl4df0M"
      },
      "source": [
        "**1. Converting to lower case**\n",
        "\n",
        "Jadi huruf kecil semua"
      ]
    },
    {
      "cell_type": "code",
      "execution_count": null,
      "metadata": {
        "id": "PnPEGZ36df0N"
      },
      "outputs": [],
      "source": [
        "def to_lower(text):\n",
        "    return text.lower()"
      ]
    },
    {
      "cell_type": "markdown",
      "metadata": {
        "id": "bT5rMuLDdf0O"
      },
      "source": [
        "**2. Contraction**\n",
        "\n",
        "Jadi bukan singkatan"
      ]
    },
    {
      "cell_type": "code",
      "execution_count": null,
      "metadata": {
        "id": "jSQAMxCLdf0P"
      },
      "outputs": [],
      "source": [
        "contractions_dict = {\n",
        "    \"ain't\": \"am not\",\n",
        "    \"aren't\": \"are not\",\n",
        "    \"can't\": \"cannot\",\n",
        "    \"can't've\": \"cannot have\",\n",
        "    \"'cause\": \"because\",\n",
        "    \"could've\": \"could have\",\n",
        "    \"couldn't\": \"could not\",\n",
        "    \"couldn't've\": \"could not have\",\n",
        "    \"didn't\": \"did not\",\n",
        "    \"doesn't\": \"does not\",\n",
        "    \"don't\": \"do not\",\n",
        "    \"hadn't\": \"had not\",\n",
        "    \"hadn't've\": \"had not have\",\n",
        "    \"hasn't\": \"has not\",\n",
        "    \"haven't\": \"have not\",\n",
        "    \"he'd\": \"he had\",\n",
        "    \"he'd've\": \"he would have\",\n",
        "    \"he'll\": \"he will\",\n",
        "    \"he'll've\": \"he will have\",\n",
        "    \"he's\": \"he is\",\n",
        "    \"how'd\": \"how did\",\n",
        "    \"how'd'y\": \"how do you\",\n",
        "    \"how'll\": \"how will\",\n",
        "    \"how's\": \"how is\",\n",
        "    \"I'd\": \"I had\",\n",
        "    \"I'd've\": \"I would have\",\n",
        "    \"I'll\": \"I will\",\n",
        "    \"I'll've\": \"I will have\",\n",
        "    \"I'm\": \"I am\",\n",
        "    \"I've\": \"I have\",\n",
        "    \"isn't\": \"is not\",\n",
        "    \"it'd\": \"it had\",\n",
        "    \"it'd've\": \"it would have\",\n",
        "    \"it'll\": \"it will\",\n",
        "    \"it'll've\": \"iit will have\",\n",
        "    \"it's\": \"it is\",\n",
        "    \"let's\": \"let us\",\n",
        "    \"ma'am\": \"madam\",\n",
        "    \"mayn't\": \"may not\",\n",
        "    \"might've\": \"might have\",\n",
        "    \"mightn't\": \"might not\",\n",
        "    \"mightn't've\": \"might not have\",\n",
        "    \"must've\": \"must have\",\n",
        "    \"mustn't\": \"must not\",\n",
        "    \"mustn't've\": \"must not have\",\n",
        "    \"needn't\": \"need not\",\n",
        "    \"needn't've\": \"need not have\",\n",
        "    \"o'clock\": \"of the clock\",\n",
        "    \"oughtn't\": \"ought not\",\n",
        "    \"oughtn't've\": \"ought not have\",\n",
        "    \"shan't\": \"shall not\",\n",
        "    \"sha'n't\": \"shall not\",\n",
        "    \"shan't've\": \"shall not have\",\n",
        "    \"she'd\": \"she had\",\n",
        "    \"she'd've\": \"she would have\",\n",
        "    \"she'll\": \"she will\",\n",
        "    \"she'll've\": \"she will have\",\n",
        "    \"she's\": \"she is\",\n",
        "    \"should've\": \"should have\",\n",
        "    \"shouldn't\": \"should not\",\n",
        "    \"shouldn't've\": \"should not have\",\n",
        "    \"so've\": \"so have\",\n",
        "    \"so's\": \"so is\",\n",
        "    \"that'd\": \"that had\",\n",
        "    \"that'd've\": \"that would have\",\n",
        "    \"that's\": \"that is\",\n",
        "    \"there'd\": \"there had\",\n",
        "    \"there'd've\": \"there would have\",\n",
        "    \"there's\": \"there is\",\n",
        "    \"they'd\": \"they had\",\n",
        "    \"they'd've\": \"they would have\",\n",
        "    \"they'll\": \"they will\",\n",
        "    \"they'll've\": \"they will have\",\n",
        "    \"they're\": \"they are\",\n",
        "    \"they've\": \"they have\",\n",
        "    \"to've\": \"to have\",\n",
        "    \"wasn't\": \"was not\",\n",
        "    \"we'd\": \"we had\",\n",
        "    \"we'd've\": \"we would have\",\n",
        "    \"we'll\": \"we will\",\n",
        "    \"we'll've\": \"we will have\",\n",
        "    \"we're\": \"we are\",\n",
        "    \"we've\": \"we have\",\n",
        "    \"weren't\": \"were not\",\n",
        "    \"what'll\": \"what will\",\n",
        "    \"what'll've\": \"what will have\",\n",
        "    \"what're\": \"what are\",\n",
        "    \"what's\": \"what is\",\n",
        "    \"what've\": \"what have\",\n",
        "    \"when's\": \"when is\",\n",
        "    \"when've\": \"when have\",\n",
        "    \"where'd\": \"where did\",\n",
        "    \"where's\": \"where is\",\n",
        "    \"where've\": \"where have\",\n",
        "    \"who'll\": \"who will\",\n",
        "    \"who'll've\": \"who will have\",\n",
        "    \"who's\": \"who is\",\n",
        "    \"who've\": \"who have\",\n",
        "    \"why's\": \"why is\",\n",
        "    \"why've\": \"why have\",\n",
        "    \"will've\": \"will have\",\n",
        "    \"won't\": \"will not\",\n",
        "    \"won't've\": \"will not have\",\n",
        "    \"would've\": \"would have\",\n",
        "    \"wouldn't\": \"would not\",\n",
        "    \"wouldn't've\": \"would not have\",\n",
        "    \"y'all\": \"you all\",\n",
        "    \"y'all'd\": \"you all would\",\n",
        "    \"y'all'd've\": \"you all would have\",\n",
        "    \"y'all're\": \"you all are\",\n",
        "    \"y'all've\": \"you all have\",\n",
        "    \"you'd\": \"you had\",\n",
        "    \"you'd've\": \"you would have\",\n",
        "    \"you'll\": \"you will\",\n",
        "    \"you'll've\": \"you will have\",\n",
        "    \"you're\": \"you are\",\n",
        "    \"you've\": \"you have\"\n",
        "}\n",
        "\n",
        "\n",
        "def expand_contractions(text, contractions_dict):\n",
        "\n",
        "    contractions_pattern = re.compile('({})'.format('|'.join(contractions_dict.keys())),\n",
        "                                      flags=re.IGNORECASE | re.DOTALL)\n",
        "\n",
        "    def expand_match(contraction):\n",
        "        match = contraction.group(0)\n",
        "        first_char = match[0]\n",
        "        expanded_contraction = contractions_dict.get(match) \\\n",
        "            if contractions_dict.get(match) \\\n",
        "            else contractions_dict.get(match.lower())\n",
        "        expanded_contraction = expanded_contraction\n",
        "        return expanded_contraction\n",
        "\n",
        "    # pada text/df['email'], ketika ada pattern seperti pada \"contractions_pattern\", maka akan kita ganti dengan \"expanded_match\"\n",
        "    expanded_text = contractions_pattern.sub(expand_match, text)\n",
        "\n",
        "    # pada expanded text, ketika ada kutip satu \"'\", maka kita hapus atau kita ganti dengan string kosong \"\"\n",
        "    expanded_text = re.sub(\"'\", \"\", expanded_text)\n",
        "    return expanded_text\n",
        "\n",
        "# agar nanti hanya memasukkan 1 argumen saja\n",
        "def main_contraction(text):\n",
        "    text = expand_contractions(text, contractions_dict)\n",
        "    return text"
      ]
    },
    {
      "cell_type": "code",
      "execution_count": null,
      "metadata": {
        "id": "y99HOGu5df0R",
        "outputId": "39d939b1-46ef-4369-9e9d-4f04db8d0f69"
      },
      "outputs": [
        {
          "data": {
            "text/plain": [
              "re.compile(r\"(ain't|aren't|can't|can't've|'cause|could've|couldn't|couldn't've|didn't|doesn't|don't|hadn't|hadn't've|hasn't|haven't|he'd|he'd've|he'll|he'll've|he's|how'd|how'd'y|how'll|how's|I'd|I'd've|I'll|I'll've|I'm|I've|isn't|it'd|it'd've|it'll|it'll've|it's|let's|ma'am|mayn't|might've|mightn't|mightn't've|must've|mustn't|mustn't've|needn't|needn't've|o'clock|oughtn't|oughtn't've|shan't|sha'n't|shan't've|she'd|she'd've|she'll|she'll've|she's|should've|shouldn't|shouldn't've|so've|so's|that'd|that'd've|that's|there'd|there'd've|there's|they'd|they'd've|they'll|they'll've|they're|they've|to've|wasn't|we'd|we'd've|we'll|we'll've|we're|we've|weren't|what'll|what'll've|what're|what's|what've|when's|when've|where'd|where's|where've|who'll|who'll've|who's|who've|why's|why've|will've|won't|won't've|would've|wouldn't|wouldn't've|y'all|y'all'd|y'all'd've|y'all're|y'all've|you'd|you'd've|you'll|you'll've|you're|you've)\",\n",
              "re.IGNORECASE|re.DOTALL|re.UNICODE)"
            ]
          },
          "execution_count": 396,
          "metadata": {},
          "output_type": "execute_result"
        }
      ],
      "source": [
        "# keys pada contractions_dict dijadikan sebagai pattern\n",
        "contractions_pattern = re.compile('({})'.format('|'.join(contractions_dict.keys())),\n",
        "                                    flags=re.IGNORECASE | re.DOTALL)\n",
        "\n",
        "contractions_pattern"
      ]
    },
    {
      "cell_type": "code",
      "execution_count": null,
      "metadata": {
        "id": "-OuFpyvLdf0S"
      },
      "outputs": [],
      "source": [
        "# IGNORECASE: Spam will match 'Spam', 'spam', 'spAM', or 'ſpam'\n",
        "# DOTALL: Makes the '.' special character match any character at all, including a newline; without this flag, '.' will match anything except a newline.\n",
        "# |: or"
      ]
    },
    {
      "cell_type": "code",
      "execution_count": null,
      "metadata": {
        "id": "RcfYhnlFdf0S",
        "outputId": "7ccbbdff-1304-4145-a210-63820f15ade2"
      },
      "outputs": [
        {
          "data": {
            "text/plain": [
              "' date wed NUMBER aug NUMBER NUMBER NUMBER NUMBER NUMBER from chris garrigues cwg dated NUMBER NUMBERfaNUMBERd deepeddy com message id NUMBER NUMBER tmda deepeddy vircio com i can t reproduce this error for me it is very repeatable like every time without fail this is the debug log of the pick happening NUMBER NUMBER NUMBER pick_it exec pick inbox list lbrace lbrace subject ftp rbrace rbrace NUMBER NUMBER sequence mercury NUMBER NUMBER NUMBER exec pick inbox list lbrace lbrace subject ftp rbrace rbrace NUMBER NUMBER sequence mercury NUMBER NUMBER NUMBER ftoc_pickmsgs NUMBER hit NUMBER NUMBER NUMBER marking NUMBER hits NUMBER NUMBER NUMBER tkerror syntax error in expression int note if i run the pick command by hand delta pick inbox list lbrace lbrace subject ftp rbrace rbrace NUMBER NUMBER sequence mercury NUMBER hit that s where the NUMBER hit comes from obviously the version of nmh i m using is delta pick version pick nmh NUMBER NUMBER NUMBER compiled on URL at sun mar NUMBER NUMBER NUMBER NUMBER ict NUMBER and the relevant part of my mh_profile delta mhparam pick seq sel list since the pick command works the sequence actually both of them the one that s explicit on the command line from the search popup and the one that comes from mh_profile do get created kre ps this is still using the version of the code form a day ago i haven t been able to reach the cvs repository today local routing issue i think _______________________________________________ exmh workers mailing list exmh workers URL URL '"
            ]
          },
          "execution_count": 398,
          "metadata": {},
          "output_type": "execute_result"
        }
      ],
      "source": [
        "df['email'][0]"
      ]
    },
    {
      "cell_type": "code",
      "execution_count": null,
      "metadata": {
        "id": "f-CUIsshdf0U",
        "outputId": "4e927bb3-a26b-433f-d257-61430d39bcc1"
      },
      "outputs": [
        {
          "data": {
            "text/plain": [
              "' date wed number aug number number number number number from chris garrigues cwg dated number numberfanumberd deepeddy com message id number number tmda deepeddy vircio com i can t reproduce this error for me it is very repeatable like every time without fail this is the debug log of the pick happening number number number pick_it exec pick inbox list lbrace lbrace subject ftp rbrace rbrace number number sequence mercury number number number exec pick inbox list lbrace lbrace subject ftp rbrace rbrace number number sequence mercury number number number ftoc_pickmsgs number hit number number number marking number hits number number number tkerror syntax error in expression int note if i run the pick command by hand delta pick inbox list lbrace lbrace subject ftp rbrace rbrace number number sequence mercury number hit that s where the number hit comes from obviously the version of nmh i m using is delta pick version pick nmh number number number compiled on url at sun mar number number number number ict number and the relevant part of my mh_profile delta mhparam pick seq sel list since the pick command works the sequence actually both of them the one that s explicit on the command line from the search popup and the one that comes from mh_profile do get created kre ps this is still using the version of the code form a day ago i haven t been able to reach the cvs repository today local routing issue i think _______________________________________________ exmh workers mailing list exmh workers url url '"
            ]
          },
          "execution_count": 399,
          "metadata": {},
          "output_type": "execute_result"
        }
      ],
      "source": [
        "contractions_pattern = re.compile('({})'.format('|'.join(contractions_dict.keys())),\n",
        "                                      flags=re.IGNORECASE | re.DOTALL)\n",
        "\n",
        "def expand_match(contraction):\n",
        "    match = contraction.group(0)\n",
        "    first_char = match[0]\n",
        "\n",
        "    expanded_contraction = contractions_dict.get(match) \\\n",
        "        if contractions_dict.get(match) \\\n",
        "        else contractions_dict.get(match.lower())\n",
        "    expanded_contraction = expanded_contraction\n",
        "    return expanded_contraction\n",
        "\n",
        "expanded_text = contractions_pattern.sub(expand_match, df['email'].apply(to_lower)[0])\n",
        "expanded_text = re.sub(\"'\", \"\", expanded_text)\n",
        "expanded_text"
      ]
    },
    {
      "cell_type": "markdown",
      "metadata": {
        "id": "LsN0sxj5df0U"
      },
      "source": [
        "**3. Remove or convert number into text**\n",
        "\n",
        "Hapus angka dari text"
      ]
    },
    {
      "cell_type": "code",
      "execution_count": null,
      "metadata": {
        "id": "NXD2adUadf0V"
      },
      "outputs": [],
      "source": [
        "def remove_numbers(text):\n",
        "    output = ''.join(x for x in text if not x.isdigit())\n",
        "    return output"
      ]
    },
    {
      "cell_type": "markdown",
      "metadata": {
        "id": "7kJQlp5gdf0W"
      },
      "source": [
        "**4. Remove punctuation**\n",
        "\n",
        "Hapus punctuation/tanda baca"
      ]
    },
    {
      "cell_type": "markdown",
      "source": [
        "* https://docs.python.org/3/library/string.html"
      ],
      "metadata": {
        "id": "pxK7ctLlVVP_"
      }
    },
    {
      "cell_type": "code",
      "execution_count": null,
      "metadata": {
        "id": "tewPIa4kdf0X"
      },
      "outputs": [],
      "source": [
        "from string import punctuation"
      ]
    },
    {
      "cell_type": "code",
      "execution_count": null,
      "metadata": {
        "id": "ZF9u_Mtxdf0X"
      },
      "outputs": [],
      "source": [
        "def remove_punct(text):\n",
        "    return ''.join(x for x in text if x not in punctuation)"
      ]
    },
    {
      "cell_type": "markdown",
      "metadata": {
        "id": "6uo41TYPdf0Y"
      },
      "source": [
        "**5. Remove white spaces**\n",
        "\n",
        "Hapus double space"
      ]
    },
    {
      "cell_type": "code",
      "execution_count": null,
      "metadata": {
        "id": "BuNXh0g7df0Y"
      },
      "outputs": [],
      "source": [
        "def to_strip(text):\n",
        "    return \" \".join(text.split())"
      ]
    },
    {
      "cell_type": "markdown",
      "metadata": {
        "id": "DoPMFBCMdf0Y"
      },
      "source": [
        "**6. Remove stop words and particular words**\n",
        "\n",
        "Hapus stopwords (kata-kata yang tidak bernilai)"
      ]
    },
    {
      "cell_type": "markdown",
      "source": [
        "* https://www.nltk.org/book/ch02.html\n"
      ],
      "metadata": {
        "id": "9_QrnHl9VY3o"
      }
    },
    {
      "cell_type": "code",
      "execution_count": null,
      "metadata": {
        "id": "hEVfjDJ0df0Z"
      },
      "outputs": [],
      "source": [
        "import nltk\n",
        "from nltk.corpus import stopwords"
      ]
    },
    {
      "cell_type": "code",
      "execution_count": null,
      "metadata": {
        "id": "H9aAYo1Zdf0Z"
      },
      "outputs": [],
      "source": [
        "def remove_stopwords(sentence):\n",
        "    stop_words = stopwords.words('english')\n",
        "    return ' '.join([x for x in nltk.word_tokenize(sentence) if not x in stop_words])"
      ]
    },
    {
      "cell_type": "markdown",
      "metadata": {
        "id": "UD8fKHghdf0a"
      },
      "source": [
        "## **Combine preprocessing methods**"
      ]
    },
    {
      "cell_type": "code",
      "execution_count": null,
      "metadata": {
        "id": "AO_MfOEXdf0a",
        "outputId": "6d685ddc-9528-4282-f332-86eed6b4c1d2"
      },
      "outputs": [
        {
          "data": {
            "text/html": [
              "<div>\n",
              "<style scoped>\n",
              "    .dataframe tbody tr th:only-of-type {\n",
              "        vertical-align: middle;\n",
              "    }\n",
              "\n",
              "    .dataframe tbody tr th {\n",
              "        vertical-align: top;\n",
              "    }\n",
              "\n",
              "    .dataframe thead th {\n",
              "        text-align: right;\n",
              "    }\n",
              "</style>\n",
              "<table border=\"1\" class=\"dataframe\">\n",
              "  <thead>\n",
              "    <tr style=\"text-align: right;\">\n",
              "      <th></th>\n",
              "      <th>email</th>\n",
              "      <th>label</th>\n",
              "      <th>email_prep1</th>\n",
              "      <th>email_prep2</th>\n",
              "      <th>email_prep3</th>\n",
              "      <th>email_prep4</th>\n",
              "      <th>email_prep5</th>\n",
              "      <th>email_prep6</th>\n",
              "    </tr>\n",
              "  </thead>\n",
              "  <tbody>\n",
              "    <tr>\n",
              "      <th>0</th>\n",
              "      <td>date wed NUMBER aug NUMBER NUMBER NUMBER NUMB...</td>\n",
              "      <td>0</td>\n",
              "      <td>date wed number aug number number number numb...</td>\n",
              "      <td>date wed number aug number number number numb...</td>\n",
              "      <td>date wed number aug number number number numb...</td>\n",
              "      <td>date wed number aug number number number numb...</td>\n",
              "      <td>date wed number aug number number number numbe...</td>\n",
              "      <td>date wed number aug number number number numbe...</td>\n",
              "    </tr>\n",
              "    <tr>\n",
              "      <th>1</th>\n",
              "      <td>martin a posted tassos papadopoulos the greek ...</td>\n",
              "      <td>0</td>\n",
              "      <td>martin a posted tassos papadopoulos the greek ...</td>\n",
              "      <td>martin a posted tassos papadopoulos the greek ...</td>\n",
              "      <td>martin a posted tassos papadopoulos the greek ...</td>\n",
              "      <td>martin a posted tassos papadopoulos the greek ...</td>\n",
              "      <td>martin a posted tassos papadopoulos the greek ...</td>\n",
              "      <td>martin posted tassos papadopoulos greek sculpt...</td>\n",
              "    </tr>\n",
              "    <tr>\n",
              "      <th>2</th>\n",
              "      <td>man threatens explosion in moscow thursday aug...</td>\n",
              "      <td>0</td>\n",
              "      <td>man threatens explosion in moscow thursday aug...</td>\n",
              "      <td>man threatens explosion in moscow thursday aug...</td>\n",
              "      <td>man threatens explosion in moscow thursday aug...</td>\n",
              "      <td>man threatens explosion in moscow thursday aug...</td>\n",
              "      <td>man threatens explosion in moscow thursday aug...</td>\n",
              "      <td>man threatens explosion moscow thursday august...</td>\n",
              "    </tr>\n",
              "    <tr>\n",
              "      <th>3</th>\n",
              "      <td>klez the virus that won t die already the most...</td>\n",
              "      <td>0</td>\n",
              "      <td>klez the virus that won t die already the most...</td>\n",
              "      <td>klez the virus that won t die already the most...</td>\n",
              "      <td>klez the virus that won t die already the most...</td>\n",
              "      <td>klez the virus that won t die already the most...</td>\n",
              "      <td>klez the virus that won t die already the most...</td>\n",
              "      <td>klez virus die already prolific virus ever kle...</td>\n",
              "    </tr>\n",
              "    <tr>\n",
              "      <th>4</th>\n",
              "      <td>in adding cream to spaghetti carbonara which ...</td>\n",
              "      <td>0</td>\n",
              "      <td>in adding cream to spaghetti carbonara which ...</td>\n",
              "      <td>in adding cream to spaghetti carbonara which ...</td>\n",
              "      <td>in adding cream to spaghetti carbonara which ...</td>\n",
              "      <td>in adding cream to spaghetti carbonara which ...</td>\n",
              "      <td>in adding cream to spaghetti carbonara which h...</td>\n",
              "      <td>adding cream spaghetti carbonara effect pasta ...</td>\n",
              "    </tr>\n",
              "    <tr>\n",
              "      <th>...</th>\n",
              "      <td>...</td>\n",
              "      <td>...</td>\n",
              "      <td>...</td>\n",
              "      <td>...</td>\n",
              "      <td>...</td>\n",
              "      <td>...</td>\n",
              "      <td>...</td>\n",
              "      <td>...</td>\n",
              "    </tr>\n",
              "    <tr>\n",
              "      <th>2995</th>\n",
              "      <td>abc s good morning america ranks it the NUMBE...</td>\n",
              "      <td>1</td>\n",
              "      <td>abc s good morning america ranks it the numbe...</td>\n",
              "      <td>abc s good morning america ranks it the numbe...</td>\n",
              "      <td>abc s good morning america ranks it the numbe...</td>\n",
              "      <td>abc s good morning america ranks it the numbe...</td>\n",
              "      <td>abc s good morning america ranks it the number...</td>\n",
              "      <td>abc good morning america ranks number christma...</td>\n",
              "    </tr>\n",
              "    <tr>\n",
              "      <th>2996</th>\n",
              "      <td>hyperlink hyperlink hyperlink let mortgage le...</td>\n",
              "      <td>1</td>\n",
              "      <td>hyperlink hyperlink hyperlink let mortgage le...</td>\n",
              "      <td>hyperlink hyperlink hyperlink let mortgage le...</td>\n",
              "      <td>hyperlink hyperlink hyperlink let mortgage le...</td>\n",
              "      <td>hyperlink hyperlink hyperlink let mortgage le...</td>\n",
              "      <td>hyperlink hyperlink hyperlink let mortgage len...</td>\n",
              "      <td>hyperlink hyperlink hyperlink let mortgage len...</td>\n",
              "    </tr>\n",
              "    <tr>\n",
              "      <th>2997</th>\n",
              "      <td>thank you for shopping with us gifts for all ...</td>\n",
              "      <td>1</td>\n",
              "      <td>thank you for shopping with us gifts for all ...</td>\n",
              "      <td>thank you for shopping with us gifts for all ...</td>\n",
              "      <td>thank you for shopping with us gifts for all ...</td>\n",
              "      <td>thank you for shopping with us gifts for all ...</td>\n",
              "      <td>thank you for shopping with us gifts for all o...</td>\n",
              "      <td>thank shopping us gifts occasions free gift nu...</td>\n",
              "    </tr>\n",
              "    <tr>\n",
              "      <th>2998</th>\n",
              "      <td>the famous ebay marketing e course learn to s...</td>\n",
              "      <td>1</td>\n",
              "      <td>the famous ebay marketing e course learn to s...</td>\n",
              "      <td>the famous ebay marketing e course learn to s...</td>\n",
              "      <td>the famous ebay marketing e course learn to s...</td>\n",
              "      <td>the famous ebay marketing e course learn to s...</td>\n",
              "      <td>the famous ebay marketing e course learn to se...</td>\n",
              "      <td>famous ebay marketing e course learn sell comp...</td>\n",
              "    </tr>\n",
              "    <tr>\n",
              "      <th>2999</th>\n",
              "      <td>hello this is chinese traditional 子 件 NUMBER世...</td>\n",
              "      <td>1</td>\n",
              "      <td>hello this is chinese traditional 子 件 number世...</td>\n",
              "      <td>hello this is chinese traditional 子 件 number世...</td>\n",
              "      <td>hello this is chinese traditional 子 件 number世...</td>\n",
              "      <td>hello this is chinese traditional 子 件 number世...</td>\n",
              "      <td>hello this is chinese traditional 子 件 number世 ...</td>\n",
              "      <td>hello chinese traditional 子 件 number世 o最有效的宣 鞣...</td>\n",
              "    </tr>\n",
              "  </tbody>\n",
              "</table>\n",
              "<p>3000 rows × 8 columns</p>\n",
              "</div>"
            ],
            "text/plain": [
              "                                                  email  label  \\\n",
              "0      date wed NUMBER aug NUMBER NUMBER NUMBER NUMB...      0   \n",
              "1     martin a posted tassos papadopoulos the greek ...      0   \n",
              "2     man threatens explosion in moscow thursday aug...      0   \n",
              "3     klez the virus that won t die already the most...      0   \n",
              "4      in adding cream to spaghetti carbonara which ...      0   \n",
              "...                                                 ...    ...   \n",
              "2995   abc s good morning america ranks it the NUMBE...      1   \n",
              "2996   hyperlink hyperlink hyperlink let mortgage le...      1   \n",
              "2997   thank you for shopping with us gifts for all ...      1   \n",
              "2998   the famous ebay marketing e course learn to s...      1   \n",
              "2999   hello this is chinese traditional 子 件 NUMBER世...      1   \n",
              "\n",
              "                                            email_prep1  \\\n",
              "0      date wed number aug number number number numb...   \n",
              "1     martin a posted tassos papadopoulos the greek ...   \n",
              "2     man threatens explosion in moscow thursday aug...   \n",
              "3     klez the virus that won t die already the most...   \n",
              "4      in adding cream to spaghetti carbonara which ...   \n",
              "...                                                 ...   \n",
              "2995   abc s good morning america ranks it the numbe...   \n",
              "2996   hyperlink hyperlink hyperlink let mortgage le...   \n",
              "2997   thank you for shopping with us gifts for all ...   \n",
              "2998   the famous ebay marketing e course learn to s...   \n",
              "2999   hello this is chinese traditional 子 件 number世...   \n",
              "\n",
              "                                            email_prep2  \\\n",
              "0      date wed number aug number number number numb...   \n",
              "1     martin a posted tassos papadopoulos the greek ...   \n",
              "2     man threatens explosion in moscow thursday aug...   \n",
              "3     klez the virus that won t die already the most...   \n",
              "4      in adding cream to spaghetti carbonara which ...   \n",
              "...                                                 ...   \n",
              "2995   abc s good morning america ranks it the numbe...   \n",
              "2996   hyperlink hyperlink hyperlink let mortgage le...   \n",
              "2997   thank you for shopping with us gifts for all ...   \n",
              "2998   the famous ebay marketing e course learn to s...   \n",
              "2999   hello this is chinese traditional 子 件 number世...   \n",
              "\n",
              "                                            email_prep3  \\\n",
              "0      date wed number aug number number number numb...   \n",
              "1     martin a posted tassos papadopoulos the greek ...   \n",
              "2     man threatens explosion in moscow thursday aug...   \n",
              "3     klez the virus that won t die already the most...   \n",
              "4      in adding cream to spaghetti carbonara which ...   \n",
              "...                                                 ...   \n",
              "2995   abc s good morning america ranks it the numbe...   \n",
              "2996   hyperlink hyperlink hyperlink let mortgage le...   \n",
              "2997   thank you for shopping with us gifts for all ...   \n",
              "2998   the famous ebay marketing e course learn to s...   \n",
              "2999   hello this is chinese traditional 子 件 number世...   \n",
              "\n",
              "                                            email_prep4  \\\n",
              "0      date wed number aug number number number numb...   \n",
              "1     martin a posted tassos papadopoulos the greek ...   \n",
              "2     man threatens explosion in moscow thursday aug...   \n",
              "3     klez the virus that won t die already the most...   \n",
              "4      in adding cream to spaghetti carbonara which ...   \n",
              "...                                                 ...   \n",
              "2995   abc s good morning america ranks it the numbe...   \n",
              "2996   hyperlink hyperlink hyperlink let mortgage le...   \n",
              "2997   thank you for shopping with us gifts for all ...   \n",
              "2998   the famous ebay marketing e course learn to s...   \n",
              "2999   hello this is chinese traditional 子 件 number世...   \n",
              "\n",
              "                                            email_prep5  \\\n",
              "0     date wed number aug number number number numbe...   \n",
              "1     martin a posted tassos papadopoulos the greek ...   \n",
              "2     man threatens explosion in moscow thursday aug...   \n",
              "3     klez the virus that won t die already the most...   \n",
              "4     in adding cream to spaghetti carbonara which h...   \n",
              "...                                                 ...   \n",
              "2995  abc s good morning america ranks it the number...   \n",
              "2996  hyperlink hyperlink hyperlink let mortgage len...   \n",
              "2997  thank you for shopping with us gifts for all o...   \n",
              "2998  the famous ebay marketing e course learn to se...   \n",
              "2999  hello this is chinese traditional 子 件 number世 ...   \n",
              "\n",
              "                                            email_prep6  \n",
              "0     date wed number aug number number number numbe...  \n",
              "1     martin posted tassos papadopoulos greek sculpt...  \n",
              "2     man threatens explosion moscow thursday august...  \n",
              "3     klez virus die already prolific virus ever kle...  \n",
              "4     adding cream spaghetti carbonara effect pasta ...  \n",
              "...                                                 ...  \n",
              "2995  abc good morning america ranks number christma...  \n",
              "2996  hyperlink hyperlink hyperlink let mortgage len...  \n",
              "2997  thank shopping us gifts occasions free gift nu...  \n",
              "2998  famous ebay marketing e course learn sell comp...  \n",
              "2999  hello chinese traditional 子 件 number世 o最有效的宣 鞣...  \n",
              "\n",
              "[3000 rows x 8 columns]"
            ]
          },
          "execution_count": 406,
          "metadata": {},
          "output_type": "execute_result"
        }
      ],
      "source": [
        "df['email_prep1'] = df['email'].apply(to_lower)\n",
        "df['email_prep2'] = df['email_prep1'].apply(main_contraction)\n",
        "df['email_prep3'] = df['email_prep2'].apply(remove_numbers)\n",
        "df['email_prep4'] = df['email_prep3'].apply(remove_punct)\n",
        "df['email_prep5'] = df['email_prep4'].apply(to_strip)\n",
        "df['email_prep6'] = df['email_prep5'].apply(remove_stopwords)\n",
        "\n",
        "df"
      ]
    },
    {
      "cell_type": "markdown",
      "metadata": {
        "id": "DATJo_2adf0b"
      },
      "source": [
        "## **Text preprocessing 2**"
      ]
    },
    {
      "cell_type": "markdown",
      "metadata": {
        "id": "xgp1Bv4Ydf0b"
      },
      "source": [
        "### **Lemmatization**"
      ]
    },
    {
      "cell_type": "markdown",
      "source": [
        "* https://www.nltk.org/api/nltk.stem.wordnet.html"
      ],
      "metadata": {
        "id": "FSsNl33UWvck"
      }
    },
    {
      "cell_type": "code",
      "execution_count": null,
      "metadata": {
        "id": "nPUiqy_5df0b"
      },
      "outputs": [],
      "source": [
        "from nltk.stem import WordNetLemmatizer"
      ]
    },
    {
      "cell_type": "code",
      "execution_count": null,
      "metadata": {
        "id": "38WGSGK6df0c"
      },
      "outputs": [],
      "source": [
        "# df['email_prep6'][0]"
      ]
    },
    {
      "cell_type": "code",
      "execution_count": null,
      "metadata": {
        "id": "lpwyN0iVdf0c"
      },
      "outputs": [],
      "source": [
        "# nltk.sent_tokenize(df['email_prep6'][0])"
      ]
    },
    {
      "cell_type": "code",
      "execution_count": null,
      "metadata": {
        "id": "4uIjFo6hdf0d"
      },
      "outputs": [],
      "source": [
        "# nltk.word_tokenize(df['email_prep6'][0])"
      ]
    },
    {
      "cell_type": "code",
      "execution_count": null,
      "metadata": {
        "id": "MrUIozGXdf0d"
      },
      "outputs": [],
      "source": [
        "# WordNetLemmatizer().lemmatize('gifts')"
      ]
    },
    {
      "cell_type": "code",
      "execution_count": null,
      "metadata": {
        "id": "XP981l0Cdf0e"
      },
      "outputs": [],
      "source": [
        "# melaukan lemmatize pada suatu kata\n",
        "wordnet_lemmatizer = WordNetLemmatizer()"
      ]
    },
    {
      "cell_type": "code",
      "execution_count": null,
      "metadata": {
        "id": "dAjy8Tbldf0e",
        "outputId": "a7423062-ba77-4ede-d414-483e127726a1"
      },
      "outputs": [
        {
          "data": {
            "text/plain": [
              "0       date wed number aug number number number numbe...\n",
              "1       martin posted tasso papadopoulos greek sculpto...\n",
              "2       man threatens explosion moscow thursday august...\n",
              "3       klez virus die already prolific virus ever kle...\n",
              "4       adding cream spaghetti carbonara effect pasta ...\n",
              "                              ...                        \n",
              "2995    abc good morning america rank number christmas...\n",
              "2996    hyperlink hyperlink hyperlink let mortgage len...\n",
              "2997    thank shopping u gift occasion free gift numbe...\n",
              "2998    famous ebay marketing e course learn sell comp...\n",
              "2999    hello chinese traditional 子 件 number世 o最有效的宣 鞣...\n",
              "Name: email_prep6, Length: 3000, dtype: object"
            ]
          },
          "metadata": {},
          "output_type": "display_data"
        }
      ],
      "source": [
        "def lemmatize_3(text):\n",
        "\n",
        "    word_lemma = []\n",
        "\n",
        "    # 1 email dipecah menjadi banyak sentence\n",
        "    for sent in nltk.sent_tokenize(text):\n",
        "\n",
        "        # 1 sentence dipecah menjadi banyak word\n",
        "        for word in nltk.word_tokenize(sent):\n",
        "            lemma_word = wordnet_lemmatizer.lemmatize(word)\n",
        "            word_lemma.append(lemma_word)\n",
        "\n",
        "    return ' '.join(word_lemma)\n",
        "\n",
        "\n",
        "df['email_prep6'].apply(lemmatize_3)"
      ]
    },
    {
      "cell_type": "code",
      "execution_count": null,
      "metadata": {
        "id": "choBiNwbdf0g"
      },
      "outputs": [],
      "source": [
        "def lemmatize(text):\n",
        "    lemmatized_word = [wordnet_lemmatizer.lemmatize(word) for sent in nltk.sent_tokenize(text) for word in nltk.word_tokenize(sent)]\n",
        "    return \" \".join(lemmatized_word)"
      ]
    },
    {
      "cell_type": "markdown",
      "metadata": {
        "id": "VBe9XF_hdf0h"
      },
      "source": [
        "**Apply lemmatization**"
      ]
    },
    {
      "cell_type": "code",
      "execution_count": null,
      "metadata": {
        "id": "LIPgqWNHdf0h",
        "outputId": "674e033b-0c63-47bb-a0e2-adcca510a35b"
      },
      "outputs": [
        {
          "data": {
            "text/plain": [
              "0       date wed number aug number number number numbe...\n",
              "1       martin posted tasso papadopoulos greek sculpto...\n",
              "2       man threatens explosion moscow thursday august...\n",
              "3       klez virus die already prolific virus ever kle...\n",
              "4       adding cream spaghetti carbonara effect pasta ...\n",
              "                              ...                        \n",
              "2995    abc good morning america rank number christmas...\n",
              "2996    hyperlink hyperlink hyperlink let mortgage len...\n",
              "2997    thank shopping u gift occasion free gift numbe...\n",
              "2998    famous ebay marketing e course learn sell comp...\n",
              "2999    hello chinese traditional 子 件 number世 o最有效的宣 鞣...\n",
              "Name: email_prep_lemma, Length: 3000, dtype: object"
            ]
          },
          "execution_count": 415,
          "metadata": {},
          "output_type": "execute_result"
        }
      ],
      "source": [
        "df['email_prep_lemma'] = df['email_prep6'].apply(lemmatize)\n",
        "df['email_prep_lemma']"
      ]
    },
    {
      "cell_type": "code",
      "execution_count": null,
      "metadata": {
        "id": "_YIfZw-6df0j"
      },
      "outputs": [],
      "source": []
    },
    {
      "cell_type": "markdown",
      "metadata": {
        "id": "pleiN_EQdf0j"
      },
      "source": [
        "## **Text exploration**"
      ]
    },
    {
      "cell_type": "markdown",
      "metadata": {
        "id": "u_Ax3lb5df0k"
      },
      "source": [
        "### **Words frequency**"
      ]
    },
    {
      "cell_type": "code",
      "execution_count": null,
      "metadata": {
        "id": "Xl2stKiBdf0k"
      },
      "outputs": [],
      "source": [
        "def mydict(check):\n",
        "\n",
        "    check = check.str.extractall('([a-zA_Z]+)')     # extract tiap kata menjadi sebuah dataframe. 1 kata per row\n",
        "    check.columns = ['check']                       # ubah nama kolomnya\n",
        "    b = check.reset_index(drop=True)                # reset index\n",
        "    check = b['check'].value_counts()               # menghitung kata yang sama\n",
        "\n",
        "    # ditampilkan dalam bentuk dataframe\n",
        "    mydict = {'word':check.index,'freq':check.values}\n",
        "    mydict = pd.DataFrame(mydict)\n",
        "    mydict.index = mydict['word']\n",
        "    mydict.drop('word', axis = 1, inplace = True)\n",
        "    mydict.sort_values('freq', ascending=False, inplace=True)\n",
        "\n",
        "    return mydict"
      ]
    },
    {
      "cell_type": "code",
      "execution_count": null,
      "metadata": {
        "id": "q_SWnhAodf0l",
        "outputId": "d633025e-73b9-481a-9458-a4ebcf2128ee"
      },
      "outputs": [
        {
          "data": {
            "text/html": [
              "<div>\n",
              "<style scoped>\n",
              "    .dataframe tbody tr th:only-of-type {\n",
              "        vertical-align: middle;\n",
              "    }\n",
              "\n",
              "    .dataframe tbody tr th {\n",
              "        vertical-align: top;\n",
              "    }\n",
              "\n",
              "    .dataframe thead th {\n",
              "        text-align: right;\n",
              "    }\n",
              "</style>\n",
              "<table border=\"1\" class=\"dataframe\">\n",
              "  <thead>\n",
              "    <tr style=\"text-align: right;\">\n",
              "      <th></th>\n",
              "      <th></th>\n",
              "      <th>0</th>\n",
              "    </tr>\n",
              "    <tr>\n",
              "      <th></th>\n",
              "      <th>match</th>\n",
              "      <th></th>\n",
              "    </tr>\n",
              "  </thead>\n",
              "  <tbody>\n",
              "    <tr>\n",
              "      <th rowspan=\"5\" valign=\"top\">0</th>\n",
              "      <th>0</th>\n",
              "      <td>date</td>\n",
              "    </tr>\n",
              "    <tr>\n",
              "      <th>1</th>\n",
              "      <td>wed</td>\n",
              "    </tr>\n",
              "    <tr>\n",
              "      <th>2</th>\n",
              "      <td>number</td>\n",
              "    </tr>\n",
              "    <tr>\n",
              "      <th>3</th>\n",
              "      <td>aug</td>\n",
              "    </tr>\n",
              "    <tr>\n",
              "      <th>4</th>\n",
              "      <td>number</td>\n",
              "    </tr>\n",
              "    <tr>\n",
              "      <th>...</th>\n",
              "      <th>...</th>\n",
              "      <td>...</td>\n",
              "    </tr>\n",
              "    <tr>\n",
              "      <th rowspan=\"5\" valign=\"top\">2999</th>\n",
              "      <th>237</th>\n",
              "      <td>w</td>\n",
              "    </tr>\n",
              "    <tr>\n",
              "      <th>238</th>\n",
              "      <td>l</td>\n",
              "    </tr>\n",
              "    <tr>\n",
              "      <th>239</th>\n",
              "      <td>r</td>\n",
              "    </tr>\n",
              "    <tr>\n",
              "      <th>240</th>\n",
              "      <td>x</td>\n",
              "    </tr>\n",
              "    <tr>\n",
              "      <th>241</th>\n",
              "      <td>g</td>\n",
              "    </tr>\n",
              "  </tbody>\n",
              "</table>\n",
              "<p>418455 rows × 1 columns</p>\n",
              "</div>"
            ],
            "text/plain": [
              "                 0\n",
              "     match        \n",
              "0    0        date\n",
              "     1         wed\n",
              "     2      number\n",
              "     3         aug\n",
              "     4      number\n",
              "...            ...\n",
              "2999 237         w\n",
              "     238         l\n",
              "     239         r\n",
              "     240         x\n",
              "     241         g\n",
              "\n",
              "[418455 rows x 1 columns]"
            ]
          },
          "execution_count": 417,
          "metadata": {},
          "output_type": "execute_result"
        }
      ],
      "source": [
        "df['email_prep_lemma'].str.extractall('([a-zA_Z]+)')"
      ]
    },
    {
      "cell_type": "code",
      "execution_count": null,
      "metadata": {
        "id": "nGUp6CdOdf0m",
        "outputId": "0963fc1d-7901-48fd-809a-71d13b4d9449"
      },
      "outputs": [
        {
          "data": {
            "image/png": "[encoded data removed]",
            "text/plain": [
              "<Figure size 720x720 with 1 Axes>"
            ]
          },
          "metadata": {
            "needs_background": "light"
          },
          "output_type": "display_data"
        }
      ],
      "source": [
        "mydict_unclean = mydict(df['email_prep_lemma'])\n",
        "\n",
        "sns.set_context(context = 'notebook', font_scale = 1.6)\n",
        "\n",
        "# barplot horizontal: jumlah kata dalam seluruh dataset ini. 20 kata terbanyak.\n",
        "mydict_unclean[:20].plot(kind = 'barh', figsize = (10, 10));"
      ]
    },
    {
      "cell_type": "markdown",
      "metadata": {
        "id": "yGy9WElEdf0m"
      },
      "source": [
        "- Kata yang paling banyak muncul dalam corpus/dataset ini adalah kata 'number', 'url', 'list', 'one', dan seterusnya.\n",
        "- Kata-kata yang sering muncul dan dianggap tidak bernilai, bisa kita hapus atau dimasukkan dalam stopwords di tahap preprocessing"
      ]
    },
    {
      "cell_type": "markdown",
      "metadata": {
        "id": "dNzIN3_rdf0n"
      },
      "source": [
        "### **Word cloud**"
      ]
    },
    {
      "cell_type": "markdown",
      "source": [
        "* http://amueller.github.io/word_cloud/generated/wordcloud.WordCloud.html"
      ],
      "metadata": {
        "id": "Bsc--b8RYgL3"
      }
    },
    {
      "cell_type": "code",
      "execution_count": null,
      "metadata": {
        "id": "1YHKKVyhdf0n"
      },
      "outputs": [],
      "source": [
        "from wordcloud import WordCloud"
      ]
    },
    {
      "cell_type": "code",
      "execution_count": null,
      "metadata": {
        "id": "h_amF0hKdf0o"
      },
      "outputs": [],
      "source": [
        "def plot_cloud(wordcloud):\n",
        "    plt.figure(figsize=(20, 10))\n",
        "    plt.imshow(wordcloud)\n",
        "    plt.axis('off')"
      ]
    },
    {
      "cell_type": "code",
      "execution_count": null,
      "metadata": {
        "id": "lKS82aVodf0p",
        "outputId": "a06939f8-5541-498f-d7ce-142c93a11b51"
      },
      "outputs": [
        {
          "data": {
            "image/png": "[encoded data removed]",
            "text/plain": [
              "<Figure size 1440x720 with 1 Axes>"
            ]
          },
          "metadata": {
            "needs_background": "light"
          },
          "output_type": "display_data"
        }
      ],
      "source": [
        "word_cloud = WordCloud().generate(str(df['email_prep_lemma']))\n",
        "plot_cloud(word_cloud)"
      ]
    },
    {
      "cell_type": "markdown",
      "metadata": {
        "id": "C9gbOuE9df0p"
      },
      "source": [
        "**Word cloud of spam**"
      ]
    },
    {
      "cell_type": "code",
      "execution_count": null,
      "metadata": {
        "id": "-6RVkEdZdf0q",
        "outputId": "c2ced0f2-feae-42c0-ae79-ffc988350140"
      },
      "outputs": [
        {
          "data": {
            "image/png": "[encoded data removed]",
            "text/plain": [
              "<Figure size 1440x720 with 1 Axes>"
            ]
          },
          "metadata": {
            "needs_background": "light"
          },
          "output_type": "display_data"
        }
      ],
      "source": [
        "word_cloud_spam = WordCloud().generate(str(df[df['label'] == 1]['email_prep_lemma']))\n",
        "plot_cloud(word_cloud_spam)"
      ]
    },
    {
      "cell_type": "markdown",
      "metadata": {
        "id": "S5Sdh3kGdf0q"
      },
      "source": [
        "**Word cloud of not-spam**"
      ]
    },
    {
      "cell_type": "code",
      "execution_count": null,
      "metadata": {
        "id": "LfBCkXOodf0r",
        "outputId": "8b152c14-eb04-4d9f-bb09-f09b69daa1bc"
      },
      "outputs": [
        {
          "data": {
            "image/png": "[encoded data removed]",
            "text/plain": [
              "<Figure size 1440x720 with 1 Axes>"
            ]
          },
          "metadata": {
            "needs_background": "light"
          },
          "output_type": "display_data"
        }
      ],
      "source": [
        "word_cloud_ham = WordCloud().generate(str(df[df['label'] == 0]['email_prep_lemma']))\n",
        "plot_cloud(word_cloud_ham)"
      ]
    },
    {
      "cell_type": "markdown",
      "metadata": {
        "id": "3wFkt220df0s"
      },
      "source": [
        "Pada email spam banyak muncul:\n",
        "- slim\n",
        "- hyperlink\n",
        "- cancer\n",
        "- risk\n",
        "\n",
        "Pada email non-spam banyak muncul:\n",
        "- man\n",
        "- virus\n",
        "- trying\n",
        "- hi"
      ]
    },
    {
      "cell_type": "markdown",
      "metadata": {
        "id": "ls39q6Hadf0s"
      },
      "source": [
        "### **Length of sentences**"
      ]
    },
    {
      "cell_type": "code",
      "execution_count": null,
      "metadata": {
        "id": "X35dFXBcdf0s"
      },
      "outputs": [],
      "source": [
        "df['length'] = df['email'].apply(len)"
      ]
    },
    {
      "cell_type": "code",
      "execution_count": null,
      "metadata": {
        "id": "Oxmzhqcbdf0t",
        "outputId": "3b42d25c-19ab-4c65-decd-0a5b8c053b23"
      },
      "outputs": [
        {
          "data": {
            "image/png": "[encoded data removed]",
            "text/plain": [
              "<Figure size 720x720 with 1 Axes>"
            ]
          },
          "metadata": {
            "needs_background": "light"
          },
          "output_type": "display_data"
        }
      ],
      "source": [
        "plt.figure(figsize = (10, 10))\n",
        "\n",
        "df_spam = df[df['label'] == 1]\n",
        "df_ham = df[df['label'] == 0]\n",
        "\n",
        "sns.distplot(df_spam['length'])\n",
        "sns.distplot(df_ham['length'])\n",
        "\n",
        "plt.legend(['spam', 'not-spam']);"
      ]
    },
    {
      "cell_type": "code",
      "execution_count": null,
      "metadata": {
        "id": "BCiy9W-ldf0t",
        "outputId": "82d8091d-3457-4168-aa81-e612316d23b0"
      },
      "outputs": [
        {
          "data": {
            "image/png": "[encoded data removed]",
            "text/plain": [
              "<Figure size 720x720 with 1 Axes>"
            ]
          },
          "metadata": {
            "needs_background": "light"
          },
          "output_type": "display_data"
        }
      ],
      "source": [
        "plt.figure(figsize = (10, 10))\n",
        "\n",
        "df_email = df[df['length'] < 4000]\n",
        "df_spam = df_email[df_email['label'] == 1]\n",
        "df_ham = df_email[df_email['label'] == 0]\n",
        "\n",
        "sns.distplot(df_spam['length'])\n",
        "sns.distplot(df_ham['length'])\n",
        "\n",
        "plt.legend(['spam', 'not-spam']);"
      ]
    },
    {
      "cell_type": "markdown",
      "metadata": {
        "id": "qVTBzLDCdf0u"
      },
      "source": [
        "### **Interpretasi histogram**\n",
        "\n",
        "- Panjang email spam dan not-spam secara umum sama\n",
        "- Pada panjang email sekitar 2300-3300 kata, email spam lebih banyak dari pada email not-spam"
      ]
    },
    {
      "cell_type": "code",
      "execution_count": null,
      "metadata": {
        "id": "i1A9YuSbdf0u"
      },
      "outputs": [],
      "source": []
    },
    {
      "cell_type": "markdown",
      "metadata": {
        "id": "UmAnXMgZdf0u"
      },
      "source": [
        "## **DTM IDF**"
      ]
    },
    {
      "cell_type": "markdown",
      "source": [
        "* https://scikit-learn.org/stable/modules/generated/sklearn.feature_extraction.text.CountVectorizer.html\n",
        "* https://scikit-learn.org/stable/modules/generated/sklearn.feature_extraction.text.TfidfVectorizer.html"
      ],
      "metadata": {
        "id": "46xhhnQfbHig"
      }
    },
    {
      "cell_type": "code",
      "execution_count": null,
      "metadata": {
        "id": "Q_Ic98xAdf0v"
      },
      "outputs": [],
      "source": [
        "from sklearn.feature_extraction.text import CountVectorizer, TfidfVectorizer"
      ]
    },
    {
      "cell_type": "markdown",
      "metadata": {
        "id": "peZh79tTdf0v"
      },
      "source": [
        "### **Data splitting**"
      ]
    },
    {
      "cell_type": "code",
      "execution_count": null,
      "metadata": {
        "id": "-Q9dkS8wdf0v"
      },
      "outputs": [],
      "source": [
        "from sklearn.model_selection import train_test_split"
      ]
    },
    {
      "cell_type": "code",
      "execution_count": null,
      "metadata": {
        "id": "RB_iHoW_df0w"
      },
      "outputs": [],
      "source": [
        "X = df['email_prep_lemma']\n",
        "y = df['label']"
      ]
    },
    {
      "cell_type": "code",
      "execution_count": null,
      "metadata": {
        "id": "xTp6E9Nldf0w"
      },
      "outputs": [],
      "source": [
        "# train test split\n",
        "text_train, text_test, y_train, y_test = train_test_split(X, y, stratify=y, test_size=0.2, random_state=0)"
      ]
    },
    {
      "cell_type": "markdown",
      "metadata": {
        "id": "AGy_-qGadf0w"
      },
      "source": [
        "**Vectorizer**\n",
        "\n",
        "- Jumlah kolom adalah jumlah seluruh kata (unique) dalam dataset\n",
        "- Tiap kata pada 1 row (1 email) akan diberi bobot sesuai dengan berapa kali dia muncul dalam email itu sendiri dan muncul pada email lainnya."
      ]
    },
    {
      "cell_type": "code",
      "execution_count": null,
      "metadata": {
        "id": "jkGEBkXedf0y"
      },
      "outputs": [],
      "source": [
        "# Document Term Matrix dengan TF-IDF\n",
        "vect = TfidfVectorizer().fit(text_train)\n",
        "\n",
        "X_train = vect.transform(text_train)\n",
        "X_test = vect.transform(text_test)"
      ]
    },
    {
      "cell_type": "code",
      "execution_count": null,
      "metadata": {
        "id": "wfiyRsurdf0y",
        "outputId": "2f69a295-9dab-4cad-f696-1c37e3ca4dfa"
      },
      "outputs": [
        {
          "data": {
            "text/plain": [
              "['aa',\n",
              " 'aaaaaaaaaaaaaaaaaaaaaaaaaaaaaaaaaaaaaaaaaaaaaaaaaaaaaaaaaaaaaaaaaaaaaaaaaaaa',\n",
              " 'aaaaaaaaaaaaaaaaaaaaaaaaaaaaaaaaaaaaaaaaaaaaaaaaaaaaaaaaaaaaaaacuxrmplfnumberfhxl',\n",
              " 'aaaaaaaaaaaaaaaaaaaaaaaaaaaaaaaaaaaaaaaaaaaaaaaaaaaaaaaaaaaaaacnumbermmvznumbercjnumberzld',\n",
              " 'aaaaaaaaaaaaaaaaaaaaaaaaaaaaaaaaaaaaaaaaaaaaaaaaaaaaaaaaaaaaaacunumberwlcunumberwmnumberdlo',\n",
              " 'aaaaaaaaaaaaaaaaaaaaaaaaaaaaaaaaaaaaaaaaaaaaaaaaaaaaaaaaaaaaabcnumberfudnumberhgknumberxt',\n",
              " 'aaaaaaaaaaaaaaaaaaaaaaaaaaaaaaaaaaaaaaaaaaaaaaaaaaaaaaaaaaaacuxrmplfnumberfhxlnumbermh',\n",
              " 'aaaaaaaaaaaaaaaaaaaaaaaaaaaaaaaaaaaaaaaaaaaaaaaaaaaaaaaaaafcvwyfk',\n",
              " 'aaaaaaaaaaaaaaaaaaaaaaaaaaaaaaaaaaaaaaaaaaaaaaaaaaaaaaaaacuxrmplfnumberfhxlnumbermhyv',\n",
              " 'aaaaaaaaaaaaaaaaaaaaaaaaaaaaaaaaaaaaaaaaaaaaaaaaaaaaaaaacnlzcunnumberljnumberfetbkvts',\n",
              " 'aaaaaaaaaaaaaaaaaaaaaaaaaaaaaaaaaaaaaaaaaaaaaaknumberesw',\n",
              " 'aaaaaaaaaaaaaaaaaaaaaaaaaaaaaaaaaaaaaaaaaaaknumberrgunumberjkdaljhgyaxwxhxsvbunumber',\n",
              " 'aaaaaaaaaaaaaaaaaaaaaaaaaaaaaaaaaaaaaaagvsapweyx',\n",
              " 'aaaaaaaaaaaaaaaaaaaaaaaaaaaaaaaaaaahjjoltwvgnumbervcjnumberzydvdsnumberrjednumberonumberjnumberlvaanumbermgaafnumber',\n",
              " 'aaaaaaaaaaaaaaaaaaaaaaaaaaaaaaaaarlnumberzdnumberx',\n",
              " 'aaaaaaaaaaaaaaaaaaaaaaaaaaaaaaaaavynumberzhnumberr',\n",
              " 'aaaaaaaaaaaaaaaaaaaaaaaaaaaaaaaacfnumberiqrcnxnumberiqjrkxkvnumbermnumber',\n",
              " 'aaaaaaaaaaaaaaaaaaaaaaaaaaaaaaawvnumbervzwzwjj',\n",
              " 'aaaaaaaaaaaaaaaaaaaaaaaaaaaaaafcvwyfk',\n",
              " 'aaaaaaaaaaaaaaaaaaaaaaaaaaacuxrmplfnumberfhxlnumbermhyv',\n",
              " 'aaaaaaaaaaaaaaaaaaaaaaaaaaaothgyonumbersyjhdnumberohljunumberrnumbermnumbergdxbtjbtnumberucrqik',\n",
              " 'aaaaaaaaaaaaaaaaaaaaaaaaaabyulglk',\n",
              " 'aaaaaaaaaaaaaaaaaaaaaaaaaafcvwyfk',\n",
              " 'aaaaaaaaaaaaaaaaaaaaaaaaahkquxpqi',\n",
              " 'aaaaaaaaaaaaaaaaaaaaaaaacuxrmplfnumberfhxlnumbermhyvnumberagblnumbermhyv',\n",
              " 'aaaaaaaaaaaaaaaaaaaaaaaafcvwyfk',\n",
              " 'aaaaaaaaaaaaaaaaaaaaaabcnumbernmhoeclodjzgufjnyficqaawnumberdnumberenumberywjutnumbernvkivleocjttu',\n",
              " 'aaaaaaaaaaaaaaaaaaaaabdtnumberd',\n",
              " 'aaaaaaaaaaaaaaaaaaaaaknumberesw',\n",
              " 'aaaaaaaaaaaaaaaaaaaaazsnumberqaaaaaaaaadasbbwkrrsjyswkmuxacqm',\n",
              " 'aaaaaaaaaaaaaaaaaacjwwsqqtgnumberpjjnumberd',\n",
              " 'aaaaaaaaaaaaaaaaaaylzaazxvdknumberoabldumnumberaaaaaqrthbnynumberulwnumberamaaaaaajzonchobwkkry',\n",
              " 'aaaaaaaaaaaaaaaaix',\n",
              " 'aaaaaaaaaaaaaaafcvwyfk',\n",
              " 'aaaaaaaaaaaaaadzrbnumberqnumbereznumberqfuebbxknumbereznumberxnumber',\n",
              " 'aaaaaaaaaaaaapmnumberknumberznumberscnumberptdskmnxtanumberapbhclusnumberqxurxmfnumbergnnumbervanumber',\n",
              " 'aaaaaaaaaaaaehdbwqtvznumberxsamaqdnumberfaqnumber',\n",
              " 'aaaaaaaaaaaagnumberigbvwconumberpyaqisuknumbersdpdwxwnumberhnumberrnumberrlwnzwsrtpnumberuovednumberpelynumberllncnumberzhfnumber',\n",
              " 'aaaaaaaaaaaaotnumberzp',\n",
              " 'aaaaaaaaaaaavynumberzhnumberr',\n",
              " 'aaaaaaaaaaaazgabldumrqaaaaaaaaaaaaaaaaaaaaaaaaaaaaaaamrqmrqgaoksbegngnumberaayhld',\n",
              " 'aaaaaaaaaaanssnumberinumberanumberfmljltnbkfubtinumberyxlzgyooddujccljmdukrxjdqsfvxumeiodkmvbnumber',\n",
              " 'aaaaaaaaaaanumberulbdjznumbersejtnumberyfhgnumberouenlxtfwoxioreulnumberdnumberznumberwnumberdocwnumbertpnumberfayfqnumbertcnumberdc',\n",
              " 'aaaaaaaaaaenumbervxy',\n",
              " 'aaaaaaaaaanumberpldwuzytdoxbbqknumberhovanumberuafnanumberxv',\n",
              " 'aaaaaaaaaavynumberzhnumberr',\n",
              " 'aaaaaaaablzxniaaaaaaaaaayuoyuqaazxuaaaaaaaaaaaaaaaaavnumbernnumbereznumberweqevqfvnumberplznumberbvfk',\n",
              " 'aaaaaaawnumberjtnumberjzbnnumbereebukttcvleoxwwywnyxvuofqjcvkxgkyyqnumberq',\n",
              " 'aaaaaahdjxpnjcnumbersocyphnumberqpnumber',\n",
              " 'aaaaaaonumberdurakocwnkxnumberu',\n",
              " 'aaaaabxqfvnumberplznumberbnumber',\n",
              " 'aaaaafdnumbersthjhfciwaejancti',\n",
              " 'aaaaagfuarszqonumberpdpmnumbergxvaadnumberilfrgmcsx',\n",
              " 'aaaaavynumberzhnumberr',\n",
              " 'aaaaaztrqzwwqybsnumberwnumberv',\n",
              " 'aaaacuxrmplfnumberfhxlnumbermhyvnumberagblnumbermhyv',\n",
              " 'aaaadiyuqaaaaanumberkstnumberqaaaaaaaaaajpnumbernknumberkomtlihqaaattnumberpkaaaaaaaaaaaaaaaaenumber',\n",
              " 'aaaahdaqanumberosbsnumberghunumber',\n",
              " 'aaaaoblngvkdoaaazqaazqaadkaaaaaaaaaaaaaaaaaazxvdknumberoaaaaaaaaaaaaaaaaaaaaaaaaa',\n",
              " 'aaaavnumberebyvnumberebnlpznumberuxrmplfnumberabyvynumberzhnumberr',\n",
              " 'aaadwnumberwnumberanumbernyioaaoanumbervdwgdujtzuwnumbercbgiacgascjkoxfnumberknumberigaoanumberhrwghnumberioanumberotnumber',\n",
              " 'aaalnumberzdnumberx',\n",
              " 'aabc',\n",
              " 'aac',\n",
              " 'aachen',\n",
              " 'aadfaixnumbersnumberfnumbersmnumberqnumberrhnumbernpcnumberhzyznumberocnumberlnumberxmnumbertilkbhcwg',\n",
              " 'aaefnumbervhwhpopanumbernrlinumberxynbznumberra',\n",
              " 'aafaaaaaaaaaaaaaadbnumberahdowdwaojbnumberaahchcacognumberaaahn',\n",
              " 'aaghbpsnumberptxncmvknumberdcjnumbersnumberkbnumbermnumbergkisrssnumberiu',\n",
              " 'aahxqynumbermprrfhenumberoewnumberynumberuw',\n",
              " 'aaibnumberqnumberddwnsnxcsnumberpceiznzduwnumberrhglrlnumbercwsvebnumberjvgtawe',\n",
              " 'aak',\n",
              " 'aalib',\n",
              " 'aanumber',\n",
              " 'aanumbermu',\n",
              " 'aanumberyaaaatlbcudunhnumbermomznumbertoaqynumberelkuznumbertprdnumberzixnumberaern',\n",
              " 'aanumberyehmnumberttjnumberdnumbergywmgtnkqknumberpnumberlwwnumberwppnumberlwnstmnumberxjynumberdxbnumberoxbouwzekfiegklywawnumbervp',\n",
              " 'aao',\n",
              " 'aaron',\n",
              " 'aauscewtaclfswjjndgsunumbersynumbergtwnumbern',\n",
              " 'aavid',\n",
              " 'aavishkar',\n",
              " 'aawaaaaaaaaaaaamflopnumberabkxglybanumberlyyhzqldvunumberbnumberxxhznumberfaqkaak',\n",
              " 'aawfcvwyfk',\n",
              " 'aawhnoaaaaaaaaagqaokcxlamsnumberbksistnumberxvanumberammspnumberryulfzbwvebnumberhhoksbkknnumberhyuvltjdqo',\n",
              " 'aaxine',\n",
              " 'aaxnumbersynumberrnumberfnumbertqaojzaaaaaaaaaaaaaaa',\n",
              " 'aaznumberljzyptbwffjxjvhprruttfssanumbermnumberxskvzx',\n",
              " 'ab',\n",
              " 'abacha',\n",
              " 'abandon',\n",
              " 'abandoned',\n",
              " 'abandoning',\n",
              " 'abatement',\n",
              " 'abbey',\n",
              " 'abbreviated',\n",
              " 'abc',\n",
              " 'abcvnumbertxhdelo',\n",
              " 'abdominal',\n",
              " 'abducted',\n",
              " 'abduction',\n",
              " 'abel',\n",
              " 'aberdeenshire',\n",
              " 'aberrant',\n",
              " 'aberration',\n",
              " 'abetted',\n",
              " 'abetting',\n",
              " 'abgyqtvquinumberku',\n",
              " 'abhixuyqknumberjhqaix',\n",
              " 'abhnumberonumbereqmptrjitkedufuaabnnumberhufuagwnumberpnumberdc',\n",
              " 'abide',\n",
              " 'abidjan',\n",
              " 'ability',\n",
              " 'abilty',\n",
              " 'abit',\n",
              " 'abiword',\n",
              " 'abixuhanumbervtznqjlmnnumberyljhsoam',\n",
              " 'abject',\n",
              " 'able',\n",
              " 'ablility',\n",
              " 'ablnumberpqktexnumbervqzznumber',\n",
              " 'abnormal',\n",
              " 'aboard',\n",
              " 'abolish',\n",
              " 'abolished',\n",
              " 'abolition',\n",
              " 'abonnement',\n",
              " 'abonnements',\n",
              " 'abonnés',\n",
              " 'aboriginal',\n",
              " 'abort',\n",
              " 'aborted',\n",
              " 'abound',\n",
              " 'abounds',\n",
              " 'abovementioned',\n",
              " 'abovetelefax',\n",
              " 'abpr',\n",
              " 'abraham',\n",
              " 'abreau',\n",
              " 'abreauj',\n",
              " 'abridged',\n",
              " 'abroad',\n",
              " 'absence',\n",
              " 'absense',\n",
              " 'absent',\n",
              " 'absolute',\n",
              " 'absolutely',\n",
              " 'absorbed',\n",
              " 'absorbing',\n",
              " 'absorption',\n",
              " 'abstract',\n",
              " 'abstracted',\n",
              " 'abstraction',\n",
              " 'absurd',\n",
              " 'absurdity',\n",
              " 'absurdly',\n",
              " 'abu',\n",
              " 'abundant',\n",
              " 'abundantly',\n",
              " 'abuse',\n",
              " 'abused',\n",
              " 'abuser',\n",
              " 'abusing',\n",
              " 'abw',\n",
              " 'abxlnumbermhyv',\n",
              " 'abyss',\n",
              " 'abzc',\n",
              " 'abélard',\n",
              " 'ac',\n",
              " 'academia',\n",
              " 'academic',\n",
              " 'academy',\n",
              " 'acadian',\n",
              " 'acc',\n",
              " 'accachecheck',\n",
              " 'acccount',\n",
              " 'accel',\n",
              " 'accelerate',\n",
              " 'accelerated',\n",
              " 'accelerating',\n",
              " 'acceleration',\n",
              " 'accelerator',\n",
              " 'accent',\n",
              " 'accented',\n",
              " 'accept',\n",
              " 'acceptability',\n",
              " 'acceptable',\n",
              " 'acceptance',\n",
              " 'accepted',\n",
              " 'accepting',\n",
              " 'accepts',\n",
              " 'acces',\n",
              " 'accesories',\n",
              " 'access',\n",
              " 'accessed',\n",
              " 'accessibility',\n",
              " 'accessible',\n",
              " 'accessing',\n",
              " 'accession',\n",
              " 'accessorized',\n",
              " 'accessory',\n",
              " 'accident',\n",
              " 'accidentally',\n",
              " 'accidently',\n",
              " 'acclaimed',\n",
              " 'accolade',\n",
              " 'accommodate',\n",
              " 'accommodating',\n",
              " 'accommodation',\n",
              " 'accommodationist',\n",
              " 'accompagnateur',\n",
              " 'accompagne',\n",
              " 'accompagnement',\n",
              " 'accompagner',\n",
              " 'accompanied',\n",
              " 'accompany',\n",
              " 'accompanying',\n",
              " 'accompile',\n",
              " 'accomplice',\n",
              " 'accomplish',\n",
              " 'accomplished',\n",
              " 'accomplishment',\n",
              " 'accord',\n",
              " 'accordance',\n",
              " 'according',\n",
              " 'accordingly',\n",
              " 'account',\n",
              " 'accountability',\n",
              " 'accountable',\n",
              " 'accountant',\n",
              " 'accounted',\n",
              " 'accounting',\n",
              " 'accpp',\n",
              " 'accross',\n",
              " 'accroître',\n",
              " 'accrue',\n",
              " 'accrued',\n",
              " 'accumulate',\n",
              " 'accumulated',\n",
              " 'accumulating',\n",
              " 'accumulation',\n",
              " 'accuracy',\n",
              " 'accurate',\n",
              " 'accurately',\n",
              " 'accuse',\n",
              " 'accused',\n",
              " 'accuses',\n",
              " 'accusing',\n",
              " 'accustomed',\n",
              " 'accvfunc',\n",
              " 'accvlib',\n",
              " 'accvtypeinaddrt',\n",
              " 'accès',\n",
              " 'acdefine',\n",
              " 'ace',\n",
              " 'acegrepheader',\n",
              " 'acerbic',\n",
              " 'acexeext',\n",
              " 'acext',\n",
              " 'acfppqknumberjrhgk',\n",
              " 'acfunc',\n",
              " 'achievable',\n",
              " 'achieve',\n",
              " 'achieved',\n",
              " 'achievement',\n",
              " 'achieves',\n",
              " 'achieving',\n",
              " 'achy',\n",
              " 'acid',\n",
              " 'acie',\n",
              " 'acilacaktir',\n",
              " 'acinclude',\n",
              " 'ackbar',\n",
              " 'ackno',\n",
              " 'acknowledge',\n",
              " 'acknowledged',\n",
              " 'acknowledgement',\n",
              " 'acknowledging',\n",
              " 'acknowledgment',\n",
              " 'ackwgynumberl',\n",
              " 'acl',\n",
              " 'aclibvar',\n",
              " 'aclink',\n",
              " 'aclocal',\n",
              " 'acls',\n",
              " 'aclu',\n",
              " 'acm',\n",
              " 'acme',\n",
              " 'acn',\n",
              " 'aconite',\n",
              " 'acowaqyqklptpjnumberozdcnumbervvunumbertuiyzj',\n",
              " 'acpi',\n",
              " 'acpnumber',\n",
              " 'acquaintance',\n",
              " 'acquainted',\n",
              " 'acquire',\n",
              " 'acquired',\n",
              " 'acquires',\n",
              " 'acquiring',\n",
              " 'acquisition',\n",
              " 'acre',\n",
              " 'acronym',\n",
              " 'across',\n",
              " 'acsavelibs',\n",
              " 'act',\n",
              " 'acted',\n",
              " 'acteurs',\n",
              " 'actigis',\n",
              " 'actimates',\n",
              " 'acting',\n",
              " 'action',\n",
              " 'actionnaire',\n",
              " 'activate',\n",
              " 'activated',\n",
              " 'activating',\n",
              " 'activation',\n",
              " 'active',\n",
              " 'activebuddy',\n",
              " 'actively',\n",
              " 'activement',\n",
              " 'activespam',\n",
              " 'activism',\n",
              " 'activist',\n",
              " 'activity',\n",
              " 'activité',\n",
              " 'actlab',\n",
              " 'acton',\n",
              " 'actor',\n",
              " 'actrycompile',\n",
              " 'actscanners',\n",
              " 'actsettings',\n",
              " 'actual',\n",
              " 'actually',\n",
              " 'actuallyreverses',\n",
              " 'actualy',\n",
              " 'acuitive',\n",
              " 'acute',\n",
              " 'acxrmplfnumberfhxlnumbermhyv',\n",
              " 'acynumberxpnumberjusobfmt',\n",
              " 'ad',\n",
              " 'ada',\n",
              " 'adam',\n",
              " 'adamant',\n",
              " 'adamson',\n",
              " 'adapt',\n",
              " 'adapted',\n",
              " 'adapter',\n",
              " 'adapting',\n",
              " 'adaptive',\n",
              " 'adaptées',\n",
              " 'adays',\n",
              " 'adb',\n",
              " 'adbusters',\n",
              " 'add',\n",
              " 'addalladdressestowhitelist',\n",
              " 'added',\n",
              " 'addes',\n",
              " 'addict',\n",
              " 'addicted',\n",
              " 'addiction',\n",
              " 'addictive',\n",
              " 'adding',\n",
              " 'addition',\n",
              " 'additional',\n",
              " 'additionally',\n",
              " 'additive',\n",
              " 'addr',\n",
              " 'addreses',\n",
              " 'address',\n",
              " 'addressaccurately',\n",
              " 'addressed',\n",
              " 'addressee',\n",
              " 'addressing',\n",
              " 'addrs',\n",
              " 'adelie',\n",
              " 'adelphia',\n",
              " 'adenophora',\n",
              " 'adequate',\n",
              " 'adequately',\n",
              " 'adhere',\n",
              " 'adherence',\n",
              " 'adhesion',\n",
              " 'adhesive',\n",
              " 'adjective',\n",
              " 'adjoining',\n",
              " 'adjourned',\n",
              " 'adjournment',\n",
              " 'adjust',\n",
              " 'adjustable',\n",
              " 'adjustdisplay',\n",
              " 'adjusted',\n",
              " 'adjusting',\n",
              " 'adjustment',\n",
              " 'adjusts',\n",
              " 'adlwyyohnumberynumberh',\n",
              " 'admin',\n",
              " 'administer',\n",
              " 'administrateur',\n",
              " 'administration',\n",
              " 'administrative',\n",
              " 'administrator',\n",
              " 'admins',\n",
              " 'admiral',\n",
              " 'admiring',\n",
              " 'admission',\n",
              " 'admit',\n",
              " 'admits',\n",
              " 'admitted',\n",
              " 'adnumberunumbermpcpnumberwbmf',\n",
              " 'adobe',\n",
              " 'adolescence',\n",
              " 'adolescent',\n",
              " 'adookuznpnnrmdaaeenumberhnumbermzctnumberqcqaaaaaagnumberllvcaazgvnumberqadknumbergadmnumberlltysrwckmnumberknumberlcwognumber',\n",
              " 'adopt',\n",
              " 'adopted',\n",
              " 'adoptee',\n",
              " 'adopter',\n",
              " 'adopting',\n",
              " 'adoption',\n",
              " 'adopts',\n",
              " 'adore',\n",
              " 'adqbrknumberwxnumberzwurnumbercvsuynumber',\n",
              " 'adres',\n",
              " 'adresinde',\n",
              " 'adress',\n",
              " 'adresse',\n",
              " 'adrian',\n",
              " 'adroitly',\n",
              " 'adsit',\n",
              " 'adsl',\n",
              " 'adsp',\n",
              " 'adult',\n",
              " 'adultery',\n",
              " 'adultsite',\n",
              " 'adustable',\n",
              " 'adv',\n",
              " 'advance',\n",
              " 'advanced',\n",
              " 'advancement',\n",
              " 'advancing',\n",
              " 'advantage',\n",
              " 'advantagesm',\n",
              " 'advent',\n",
              " 'adventure',\n",
              " 'adversary',\n",
              " 'adverse',\n",
              " 'adversity',\n",
              " 'advert',\n",
              " 'advertise',\n",
              " 'advertised',\n",
              " 'advertisement',\n",
              " 'advertiser',\n",
              " 'advertises',\n",
              " 'advertising',\n",
              " 'advertisment',\n",
              " 'advice',\n",
              " 'advicer',\n",
              " 'advise',\n",
              " 'adviseby',\n",
              " 'advised',\n",
              " 'advisement',\n",
              " 'adviser',\n",
              " 'advises',\n",
              " 'advisor',\n",
              " 'advisory',\n",
              " 'advocacy',\n",
              " 'advocate',\n",
              " 'advocating',\n",
              " 'ae',\n",
              " 'aebbinumbervucusakcuqnumberfte',\n",
              " 'aeftr',\n",
              " 'aeklnumberwpjhdlljwslqnumberzltwnumberynumbersrdrxsotsnumbertvinumberkxkqxjuwxnumberr',\n",
              " 'aekmnumbertznumberfahzyqojyznumberdsrfgrthn',\n",
              " 'aelghtfsnumberxeslcogerxrpmhkmevdhwlawwzpdnumberunumberhnumberzjuqxhksbfarnumbervxlhinumberazzaaaonjnumber',\n",
              " 'aelvexapnumber',\n",
              " 'aennumberlvvwnumberzqeczfujjjgrknumbervmwnumber',\n",
              " 'aenumberf',\n",
              " 'aenumberonumberaayoaaaaaaaaaaaaafcvwyfk',\n",
              " 'aer',\n",
              " 'aerial',\n",
              " 'aeriksson',\n",
              " 'aerodynamical',\n",
              " 'aerospace',\n",
              " 'aesloymk',\n",
              " 'aesthetic',\n",
              " 'aetpc',\n",
              " 'aevwyfk',\n",
              " 'afaic',\n",
              " 'afaict',\n",
              " 'afaik',\n",
              " 'afair',\n",
              " 'afaxnumber',\n",
              " 'afeoanyklgnumbertvomnxexrlkjy',\n",
              " 'affair',\n",
              " 'affect',\n",
              " 'affected',\n",
              " 'affecting',\n",
              " 'affectional',\n",
              " 'affective',\n",
              " 'affichage',\n",
              " 'affidavit',\n",
              " 'affiliate',\n",
              " 'affiliated',\n",
              " 'affiliateoptout',\n",
              " 'affiliation',\n",
              " 'affinity',\n",
              " 'affix',\n",
              " 'affixed',\n",
              " 'afflicted',\n",
              " 'affluent',\n",
              " 'afford',\n",
              " 'affordable',\n",
              " 'afforded',\n",
              " 'affront',\n",
              " 'afft',\n",
              " 'afghan',\n",
              " 'afghanistan',\n",
              " 'afhppfdtnznumbersbnumbereunumberradzddtwnumbergnumberhhbnumberujtpnumberxnumberdvnsnumberyljiznumberznumberzzlnumbergnnumberjwnbnnumber',\n",
              " 'afiapnuwunumberbvtx',\n",
              " 'afin',\n",
              " 'afipx',\n",
              " 'afirbpfnyynumberx',\n",
              " 'afjnntnumber',\n",
              " 'afknumbermr',\n",
              " 'afkrnumbermh',\n",
              " 'afkrnumberminumber',\n",
              " 'afmlgtqeunumberxkdlovwnrnumberxsklpnumberjysaculwnumbersvuunumberl',\n",
              " 'afnnumberzoadnfnumber',\n",
              " 'afnumber',\n",
              " 'afnumberaw',\n",
              " 'afnumberdecore',\n",
              " 'afnumberdpjhnumbernoxyinpnumberlchtgsuwlsditeow',\n",
              " 'afnumberevnumberueinumbertnumberbpbnumber',\n",
              " 'afohnumberjehokboxnumberclunumbermnumberxgwnumberrvoanfnumbermnumber',\n",
              " 'aforementioned',\n",
              " 'afoul',\n",
              " 'afpnumberhnumbersvhppnumbermpjnumberxxnumbervxnumber',\n",
              " 'afraid',\n",
              " 'africa',\n",
              " 'african',\n",
              " 'africaspainsri',\n",
              " 'aftcfeed',\n",
              " 'afterall',\n",
              " 'afterglow',\n",
              " 'aftermath',\n",
              " 'afternoon',\n",
              " 'afterward',\n",
              " 'afterwards',\n",
              " 'afterwhich',\n",
              " 'afufnumberlhnumberzdknumberzndesbcnumberynumbergdjlrh',\n",
              " 'afufnumberpyphnumber',\n",
              " 'afy',\n",
              " 'ag',\n",
              " 'agavnumberinumbergcnumberuanmnu',\n",
              " 'agdprvvuylwjggaa',\n",
              " 'age',\n",
              " 'aged',\n",
              " 'ageing',\n",
              " 'ageist',\n",
              " 'agency',\n",
              " 'agenda',\n",
              " 'agent',\n",
              " 'agfnofnqaakrrnumberlnlnumbercnuavhmnumber',\n",
              " 'aggrandizement',\n",
              " 'aggregate',\n",
              " 'aggregated',\n",
              " 'aggregatestudio',\n",
              " 'aggregating',\n",
              " 'aggregation',\n",
              " 'aggregator',\n",
              " 'aggression',\n",
              " 'aggressive',\n",
              " 'aggressively',\n",
              " 'aggressor',\n",
              " 'aggvnumberbnnumbercjdfgakmmbsunktk',\n",
              " 'aghfdpnumberar',\n",
              " 'agile',\n",
              " 'aging',\n",
              " 'aginst',\n",
              " 'agitating',\n",
              " 'aglacymgrunumberhnumberna',\n",
              " 'agm',\n",
              " 'agmrbbihmvetfeefijinumberunumberfxcogrmnumberjsocevinumberksssrdvgmnumberrewcnumberhodothhjwrnumberf',\n",
              " 'agncnumberdccreernumberpknumbernansdrlkxpsbxnumberjyusnhbkwuvgnrppdpocnumbersota',\n",
              " 'agnostic',\n",
              " 'agnula',\n",
              " 'ago',\n",
              " 'agony',\n",
              " 'agosto',\n",
              " 'agotnumbermuuvwppdrponumberjnumberinumbervzdkriyxbcijrxzynumberznumberivjb',\n",
              " 'agra',\n",
              " 'agraphic',\n",
              " 'agree',\n",
              " 'agreeable',\n",
              " 'agreed',\n",
              " 'agreeing',\n",
              " 'agreement',\n",
              " 'agrees',\n",
              " 'agressive',\n",
              " 'agressor',\n",
              " 'agribusiness',\n",
              " 'agricultural',\n",
              " 'agriculture',\n",
              " 'aground',\n",
              " 'agsvnumberxrrqyzwnnumberyt',\n",
              " 'agun',\n",
              " 'agxwslhbtbxwmnumberanumberfrlnumberzvhnumberlnjvbfnumbermrpnumberypmnumberwznumbercvuonumbers',\n",
              " 'ah',\n",
              " 'aha',\n",
              " 'ahclxznumberdnnutrpypq',\n",
              " 'ahdqftbcuyknumberjvkkzvznumberdpnumberfbldnumberyynumberuvtnumberv',\n",
              " 'ahead',\n",
              " 'ahebaxeb',\n",
              " 'ahem',\n",
              " 'aherne',\n",
              " 'ahgmexuucvq',\n",
              " 'ahh',\n",
              " 'ahhhh',\n",
              " 'ahlnumber',\n",
              " 'ahlymirrioxweirkrpqcwsjuknumberp',\n",
              " 'ahm',\n",
              " 'ahmad',\n",
              " 'ahmadabad',\n",
              " 'ahmdbnumberamaaaaaaaayaudnqamedbzlqlnumberllnumberijuunmlxupvwsnumberxxiwrhbtxiknumberxbnumbermprinumberdinb',\n",
              " 'ahmed',\n",
              " 'ahmet',\n",
              " 'ahmqodurxdnumberqtr',\n",
              " 'ahnumberinwnumbertusqnumberpnumbertnumbertpkseknumberfjw',\n",
              " 'ahnumberudsnumbervnumbermsdnnhdbznumberk',\n",
              " 'ahold',\n",
              " 'ahornstr',\n",
              " 'ahotsexycouple',\n",
              " 'ahr',\n",
              " 'ahrcwaay',\n",
              " 'ahryqxnumberrwmnvjxvopvqzpzseoezmwvnumberiufih',\n",
              " 'ai',\n",
              " 'aicheme',\n",
              " 'aid',\n",
              " 'aide',\n",
              " 'aided',\n",
              " 'aider',\n",
              " 'aiding',\n",
              " 'aidsphobic',\n",
              " 'aie',\n",
              " 'aig',\n",
              " 'aihlzfsxznzowapjrp',\n",
              " 'ailaaaaaaaaaaaaaaaaaaaaaaaaaaaaaaaaa',\n",
              " 'ailcuxrmplfnumberajesw',\n",
              " 'ailcuxrmplfnumberavsp',\n",
              " 'ailcuxrmplfnumberfgaaaaaaaaaaaaabjnumberpu',\n",
              " 'ailleurs',\n",
              " 'ailment',\n",
              " 'aim',\n",
              " 'aimed',\n",
              " 'aiming',\n",
              " 'aiml',\n",
              " 'ainnumbermmdlkdaqtyjxwknumber',\n",
              " 'ainsi',\n",
              " 'aint',\n",
              " 'aintitcoolnews',\n",
              " 'ainumbermvanumberinumberzrghbnumberjutnumberyiyjyanumbermnumberlcerdfzqiwztonhsmdhnumber',\n",
              " 'aio',\n",
              " 'air',\n",
              " 'airbase',\n",
              " 'airborne',\n",
              " 'airbus',\n",
              " 'aircraft',\n",
              " 'aired',\n",
              " 'airfare',\n",
              " 'airfiltering',\n",
              " 'airflow',\n",
              " 'airframe',\n",
              " 'airing',\n",
              " 'airline',\n",
              " 'airliner',\n",
              " 'airplane',\n",
              " 'airport',\n",
              " 'airshow',\n",
              " 'airshows',\n",
              " 'airspace',\n",
              " 'airstrip',\n",
              " 'airwave',\n",
              " 'airway',\n",
              " 'airy',\n",
              " 'aishihik',\n",
              " 'aisle',\n",
              " 'aiuidwgnumbery',\n",
              " 'aix',\n",
              " 'aiy',\n",
              " 'aj',\n",
              " 'ajami',\n",
              " 'ajatellut',\n",
              " 'ajatuksia',\n",
              " 'ajfohnumbersponumberqqnumberh',\n",
              " 'ajjpfinkhgymnumbergxtvmnumberhuriuocusxofnumberenumberpdunumberywobgeknumberxlvnwy',\n",
              " 'ajktanumbersooxnumbersnumber',\n",
              " 'ajnnumberpqppnumberlfnumberznumberhogmunumberpnumberahjznumbervbjoogtkqtveqkm',\n",
              " 'ajnumberosnumberuoksozknumberodzvnumberdnumbermmxxcnumberjtztvnnumberpnumbervfynbnumbergjabujyvufnumbertzbomumnumbertlmaj',\n",
              " 'ajnutnumbercbscmmbtnumbervuonumberjcnqsjbzvxllunumberketsuph',\n",
              " 'ajveuhetvgkdjr',\n",
              " 'ajxyiqccvqwebxgnumber',\n",
              " 'ak',\n",
              " 'aka',\n",
              " 'akam',\n",
              " 'akamai',\n",
              " 'akin',\n",
              " 'akmlfvznumberynumbertynumberxwuryanunumberavvdznumbertnumbersuvwmmnnumberpvtxztfnumbernhnxnzoehponumberchknumberxywor',\n",
              " 'aknrzodioqnumbernrmpdeaiwucnumberxnbrzonumberzudinomn',\n",
              " 'aknumberesw',\n",
              " 'aknumbersqlznzuwubklouorinumberwjycknumberbxnumbergnumbermnumbercmnumberbnumberbzcnumbersrndnumberrlnumberkownumberezseesloxjgebwscanvanumber',\n",
              " 'ako',\n",
              " 'akqafp',\n",
              " 'akqafpdgaaaqnzghn',\n",
              " 'akqafpdgaaciztwnnybewxnnnumberpvtnumberhbwnumberllinumberyzsknumberxnumberr',\n",
              " 'akqafpdgjsi',\n",
              " 'akqqbfaxxgnumber',\n",
              " 'akrjunumberrcztjnumberynumbermemnumbervgztnumberephnumberbonumberabnumbervnumberl',\n",
              " 'aksakliklar',\n",
              " 'al',\n",
              " 'ala',\n",
              " 'alaaaaaaaa',\n",
              " 'alabama',\n",
              " 'alacribus',\n",
              " 'alan',\n",
              " 'alarm',\n",
              " 'alarmed',\n",
              " 'alarming',\n",
              " 'alaska',\n",
              " 'alastair',\n",
              " 'alb',\n",
              " 'albacore',\n",
              " 'albania',\n",
              " 'albans',\n",
              " 'albeit',\n",
              " 'albert',\n",
              " 'alberta',\n",
              " 'albertans',\n",
              " 'albino',\n",
              " 'albion',\n",
              " 'albizzia',\n",
              " 'albkmelyskvwnumberjsnumberycqqnumberyynazjnumberk',\n",
              " 'album',\n",
              " 'albznumberoo',\n",
              " 'alcanet',\n",
              " 'alcatel',\n",
              " 'alcohol',\n",
              " 'alcoholic',\n",
              " 'alcoholism',\n",
              " 'alcyyyfazjnumberk',\n",
              " 'aldenulnumber',\n",
              " 'alert',\n",
              " 'alerted',\n",
              " 'alex',\n",
              " 'alexander',\n",
              " 'alexandria',\n",
              " 'alfred',\n",
              " 'algebra',\n",
              " 'algorithm',\n",
              " 'algos',\n",
              " 'alhaji',\n",
              " 'ali',\n",
              " 'alias',\n",
              " 'alice',\n",
              " 'alien',\n",
              " 'alight',\n",
              " 'align',\n",
              " 'aligned',\n",
              " 'alii',\n",
              " 'alike',\n",
              " 'alimony',\n",
              " 'alinoe',\n",
              " 'alisma',\n",
              " 'alison',\n",
              " 'alittle',\n",
              " 'alive',\n",
              " 'alkaloid',\n",
              " 'alknumberyvw',\n",
              " 'allan',\n",
              " 'allay',\n",
              " 'alledged',\n",
              " 'allegation',\n",
              " 'alleged',\n",
              " 'allegedly',\n",
              " 'allegro',\n",
              " 'allen',\n",
              " 'alleviate',\n",
              " 'alleviated',\n",
              " 'alley',\n",
              " 'alleycat',\n",
              " 'alliance',\n",
              " 'allie',\n",
              " 'allocate',\n",
              " 'allocated',\n",
              " 'allocation',\n",
              " 'alloffnumber',\n",
              " 'allotted',\n",
              " 'allow',\n",
              " 'allowed',\n",
              " 'allowedduppkgs',\n",
              " 'allowing',\n",
              " 'allows',\n",
              " 'alloy',\n",
              " 'alltogther',\n",
              " 'allude',\n",
              " 'alluded',\n",
              " 'ally',\n",
              " 'allègre',\n",
              " 'almighty',\n",
              " 'almost',\n",
              " 'alms',\n",
              " 'alng',\n",
              " 'alntqbistlgzt',\n",
              " 'alnumbernqls',\n",
              " 'alnumberxzuvnumber',\n",
              " 'aloft',\n",
              " 'alone',\n",
              " 'along',\n",
              " 'alongside',\n",
              " 'alook',\n",
              " 'alot',\n",
              " 'alp',\n",
              " 'alpha',\n",
              " 'alphabet',\n",
              " 'alphabetic',\n",
              " 'alphabetically',\n",
              " 'alphabetized',\n",
              " 'alphanumber',\n",
              " 'alphie',\n",
              " 'alqnumberubanuxhnumberjzvjpnjvdoqcorcknumberdofguvtnumbersy',\n",
              " 'already',\n",
              " 'alsa',\n",
              " 'alsactl',\n",
              " 'alsamixer',\n",
              " 'alsanumber',\n",
              " 'alsaplaer',\n",
              " 'alsaplayer',\n",
              " 'alsasound',\n",
              " 'also',\n",
              " 'alt',\n",
              " 'altavista',\n",
              " 'alter',\n",
              " 'alteration',\n",
              " 'altered',\n",
              " 'alternance',\n",
              " 'alternate',\n",
              " 'alternated',\n",
              " 'alternately',\n",
              " 'alternative',\n",
              " 'alternatively',\n",
              " 'alters',\n",
              " 'although',\n",
              " 'altimetery',\n",
              " 'altinda',\n",
              " 'altitude',\n",
              " 'altman',\n",
              " 'alto',\n",
              " 'altogether',\n",
              " 'alton',\n",
              " 'alttemplate',\n",
              " 'alttemplatenumber',\n",
              " 'alum',\n",
              " 'aluminum',\n",
              " 'alumnus',\n",
              " 'alva',\n",
              " 'alvie',\n",
              " 'always',\n",
              " 'alwbxmqesytnumberrmittnumberqsclgnumberzinumberjpwnumberqdrljenumberkzrnumbermnaojjwnumberbnumberaaaafludzy',\n",
              " 'alwqnumberysnumbervqxlditnumberqnumber',\n",
              " 'alwvlnumbergaobbwnumberrnumberxznumberzkyzueswfm',\n",
              " 'alxnumberllgunumberanumberqnumberyznumberplnggnumberbhnumbersxgaalrnumberaacmnumberjnumber',\n",
              " 'alzheimer',\n",
              " 'alziokcjwssl',\n",
              " 'am',\n",
              " 'ama',\n",
              " 'amalgamated',\n",
              " 'amalgamation',\n",
              " 'amanda',\n",
              " 'amassed',\n",
              " 'amateur',\n",
              " 'amavis',\n",
              " 'amavisd',\n",
              " 'amaze',\n",
              " 'amazed',\n",
              " 'amazes',\n",
              " 'amazing',\n",
              " 'amazingly',\n",
              " 'amazon',\n",
              " 'amazonian',\n",
              " 'amber',\n",
              " 'ambiance',\n",
              " 'ambience',\n",
              " 'ambiguity',\n",
              " 'ambiguous',\n",
              " 'ambition',\n",
              " 'ambitious',\n",
              " 'ambivalent',\n",
              " 'ambler',\n",
              " 'amen',\n",
              " 'amended',\n",
              " 'amending',\n",
              " 'amendment',\n",
              " 'amenity',\n",
              " 'america',\n",
              " 'americal',\n",
              " 'american',\n",
              " 'americanexpress',\n",
              " 'americanism',\n",
              " 'ameteuaelpnltzpnumberynhlfvlboknumberadnumberuhnumbernn',\n",
              " 'amex',\n",
              " 'amf',\n",
              " 'ami',\n",
              " 'amiable',\n",
              " 'amid',\n",
              " 'amidi',\n",
              " 'amiga',\n",
              " 'amigans',\n",
              " 'amigaos',\n",
              " 'aminvestments',\n",
              " 'amis',\n",
              " 'amit',\n",
              " 'amithisornot',\n",
              " 'amithlon',\n",
              " 'amjdfbrwynumberfunumbertwdrgnumberbnumberlahpvnumberqqybjgwwnjnumberlxl',\n",
              " 'amlcd',\n",
              " 'amlozvtnumberunnumbert',\n",
              " 'amman',\n",
              " 'ammendement',\n",
              " 'ammendment',\n",
              " 'ammo',\n",
              " 'ammunition',\n",
              " 'amnesiac',\n",
              " 'amnumber',\n",
              " 'among',\n",
              " 'amongst',\n",
              " 'amoral',\n",
              " 'amorous',\n",
              " 'amount',\n",
              " 'amounted',\n",
              " 'amountread',\n",
              " 'amp',\n",
              " 'amphetadesk',\n",
              " 'amphitheatre',\n",
              " 'amplification',\n",
              " 'amplifier',\n",
              " 'amr',\n",
              " 'amsterdam',\n",
              " 'amtinumbercnumberxxufjeynverpnumberfynumberikjnumberinumberxs',\n",
              " 'amun',\n",
              " 'amused',\n",
              " 'amusement',\n",
              " 'amusing',\n",
              " 'amy',\n",
              " 'amélioration',\n",
              " 'ana',\n",
              " 'anal',\n",
              " 'analog',\n",
              " 'analogous',\n",
              " 'analogue',\n",
              " 'analogy',\n",
              " 'analyis',\n",
              " 'analyse',\n",
              " 'analyser',\n",
              " 'analysing',\n",
              " 'analysis',\n",
              " 'analyst',\n",
              " 'analystes',\n",
              " 'analytic',\n",
              " 'analyze',\n",
              " 'analyzes',\n",
              " 'analyzing',\n",
              " 'ananova',\n",
              " 'anantapur',\n",
              " 'anarchist',\n",
              " 'anarchocapitalist',\n",
              " 'anathema',\n",
              " 'anbcefjvg',\n",
              " 'ancestor',\n",
              " 'ancestral',\n",
              " 'anchor',\n",
              " 'ancient',\n",
              " 'andean',\n",
              " 'ander',\n",
              " 'anders',\n",
              " 'anderson',\n",
              " 'andersontop',\n",
              " 'andes',\n",
              " 'andhra',\n",
              " 'andmerited',\n",
              " 'andordered',\n",
              " 'andpercentages',\n",
              " 'andr',\n",
              " 'andrea',\n",
              " 'andrew',\n",
              " 'andrey',\n",
              " 'andris',\n",
              " 'andso',\n",
              " 'andthus',\n",
              " 'andy',\n",
              " 'andyour',\n",
              " 'anecdotal',\n",
              " ...]"
            ]
          },
          "execution_count": 432,
          "metadata": {},
          "output_type": "execute_result"
        }
      ],
      "source": [
        "# nama kolom\n",
        "vect.get_feature_names()"
      ]
    },
    {
      "cell_type": "code",
      "execution_count": null,
      "metadata": {
        "id": "czjyADk3df0z",
        "outputId": "9c790bfc-0d54-4988-98d7-30415be9ccb3"
      },
      "outputs": [
        {
          "data": {
            "text/plain": [
              "<2400x28321 sparse matrix of type '<class 'numpy.float64'>'\n",
              "\twith 206058 stored elements in Compressed Sparse Row format>"
            ]
          },
          "execution_count": 433,
          "metadata": {},
          "output_type": "execute_result"
        }
      ],
      "source": [
        "X_train"
      ]
    },
    {
      "cell_type": "code",
      "execution_count": null,
      "metadata": {
        "id": "Pm9brbFQdf00",
        "outputId": "cec60741-9f8b-4db5-8466-44dd7d6946ae"
      },
      "outputs": [
        {
          "data": {
            "text/plain": [
              "<600x28321 sparse matrix of type '<class 'numpy.float64'>'\n",
              "\twith 45477 stored elements in Compressed Sparse Row format>"
            ]
          },
          "execution_count": 434,
          "metadata": {},
          "output_type": "execute_result"
        }
      ],
      "source": [
        "X_test"
      ]
    },
    {
      "cell_type": "code",
      "execution_count": null,
      "metadata": {
        "id": "EPCRXuzHdf00"
      },
      "outputs": [],
      "source": []
    },
    {
      "cell_type": "markdown",
      "metadata": {
        "id": "XokeU_0odf00"
      },
      "source": [
        "## **Text classification**"
      ]
    },
    {
      "cell_type": "code",
      "execution_count": null,
      "metadata": {
        "id": "tSNbrvW9df01"
      },
      "outputs": [],
      "source": [
        "from sklearn.metrics import confusion_matrix, f1_score, recall_score, precision_score, classification_report, accuracy_score\n",
        "\n",
        "from sklearn.model_selection import cross_val_score, StratifiedKFold\n",
        "from sklearn.metrics import plot_roc_curve, plot_precision_recall_curve\n",
        "from sklearn.model_selection import GridSearchCV, RandomizedSearchCV\n",
        "\n",
        "from sklearn.linear_model import LogisticRegression\n",
        "from sklearn.ensemble import RandomForestClassifier\n",
        "from sklearn.tree import plot_tree, DecisionTreeClassifier\n",
        "from sklearn.neighbors import KNeighborsClassifier\n",
        "\n",
        "from sklearn.feature_extraction.text import TfidfVectorizer, TfidfTransformer\n",
        "from sklearn.pipeline import Pipeline"
      ]
    },
    {
      "cell_type": "markdown",
      "metadata": {
        "id": "N8_nGDZVdf01"
      },
      "source": [
        "#### **Choose benchmark model**"
      ]
    },
    {
      "cell_type": "code",
      "execution_count": null,
      "metadata": {
        "id": "y3NkbzQ9df01",
        "outputId": "90431a3e-b890-4192-aacd-ffe74f046925"
      },
      "outputs": [
        {
          "name": "stdout",
          "output_type": "stream",
          "text": [
            "[0.87804878 0.83832335 0.74489796 0.71171171 0.74757282] KNeighborsClassifier()\n",
            "[0.84848485 0.86060606 0.84810127 0.85714286 0.83832335] DecisionTreeClassifier(random_state=0)\n",
            "[0.80597015 0.79699248 0.78787879 0.82352941 0.87323944] LogisticRegression(random_state=0)\n",
            "[0.88275862 0.93333333 0.91390728 0.93421053 0.93333333] RandomForestClassifier(random_state=0)\n"
          ]
        }
      ],
      "source": [
        "# Define models\n",
        "knn = KNeighborsClassifier()\n",
        "tree = DecisionTreeClassifier(random_state=0)\n",
        "logreg = LogisticRegression(random_state=0)\n",
        "rf = RandomForestClassifier(random_state=0)\n",
        "\n",
        "models = [knn, tree, logreg, rf]\n",
        "score = []\n",
        "nilai_mean = []\n",
        "nilai_std = []\n",
        "\n",
        "for i in models:\n",
        "    skfold = StratifiedKFold(n_splits=5)\n",
        "\n",
        "    model_cv = cross_val_score(i, X_train, y_train, cv=skfold, scoring='f1', error_score='raise')\n",
        "    score.append(model_cv)\n",
        "    nilai_mean.append(model_cv.mean())\n",
        "    nilai_std.append(model_cv.std())\n",
        "    print(model_cv, i)"
      ]
    },
    {
      "cell_type": "code",
      "execution_count": null,
      "metadata": {
        "id": "VnylhU7Sdf02",
        "outputId": "784303bb-a53c-42c3-ce74-366b5fd4a4a2"
      },
      "outputs": [
        {
          "data": {
            "text/html": [
              "<div>\n",
              "<style scoped>\n",
              "    .dataframe tbody tr th:only-of-type {\n",
              "        vertical-align: middle;\n",
              "    }\n",
              "\n",
              "    .dataframe tbody tr th {\n",
              "        vertical-align: top;\n",
              "    }\n",
              "\n",
              "    .dataframe thead th {\n",
              "        text-align: right;\n",
              "    }\n",
              "</style>\n",
              "<table border=\"1\" class=\"dataframe\">\n",
              "  <thead>\n",
              "    <tr style=\"text-align: right;\">\n",
              "      <th></th>\n",
              "      <th>model</th>\n",
              "      <th>mean</th>\n",
              "      <th>std</th>\n",
              "    </tr>\n",
              "  </thead>\n",
              "  <tbody>\n",
              "    <tr>\n",
              "      <th>0</th>\n",
              "      <td>knn</td>\n",
              "      <td>0.784111</td>\n",
              "      <td>0.063052</td>\n",
              "    </tr>\n",
              "    <tr>\n",
              "      <th>1</th>\n",
              "      <td>tree</td>\n",
              "      <td>0.850532</td>\n",
              "      <td>0.007802</td>\n",
              "    </tr>\n",
              "    <tr>\n",
              "      <th>2</th>\n",
              "      <td>logreg</td>\n",
              "      <td>0.817522</td>\n",
              "      <td>0.030246</td>\n",
              "    </tr>\n",
              "    <tr>\n",
              "      <th>3</th>\n",
              "      <td>rf</td>\n",
              "      <td>0.919509</td>\n",
              "      <td>0.019901</td>\n",
              "    </tr>\n",
              "  </tbody>\n",
              "</table>\n",
              "</div>"
            ],
            "text/plain": [
              "    model      mean       std\n",
              "0     knn  0.784111  0.063052\n",
              "1    tree  0.850532  0.007802\n",
              "2  logreg  0.817522  0.030246\n",
              "3      rf  0.919509  0.019901"
            ]
          },
          "execution_count": 339,
          "metadata": {},
          "output_type": "execute_result"
        }
      ],
      "source": [
        "pd.DataFrame({\n",
        "    'model':['knn', 'tree', 'logreg', 'rf'],\n",
        "    'mean':nilai_mean,\n",
        "    'std':nilai_std\n",
        "})"
      ]
    },
    {
      "cell_type": "markdown",
      "metadata": {
        "id": "RZBo-cM8df02"
      },
      "source": [
        "- Berdasarkan cross validation, model terbaik adalah Random Forest dengan f1-score 0.91\n",
        "- Percobaan hyperparameter tuning pada Random Forest dengan menggunakan randomized search dengan n_iter=10 belum menemukan hasil yang lebih baik.\n",
        "- Kita bisa coba dengan menaikkan jumlah n_iter atau coba menggunakan grid search untuk mendapatkan hasil yang lebih baik, namun akan memakan waktu yang cukup lama untuk fitting-nya.\n",
        "- Jadi selanjutnya kita akan coba gunakan Logistic Regression."
      ]
    },
    {
      "cell_type": "markdown",
      "metadata": {
        "id": "7Q2M_Iuxdf03"
      },
      "source": [
        "## **Model performance on test set**"
      ]
    },
    {
      "cell_type": "code",
      "execution_count": null,
      "metadata": {
        "id": "eUOgcvdWdf03",
        "outputId": "dc1ec3de-cf6b-4ecd-eeee-eb0910deb455"
      },
      "outputs": [
        {
          "data": {
            "text/plain": [
              "0.8700564971751412"
            ]
          },
          "execution_count": 437,
          "metadata": {},
          "output_type": "execute_result"
        }
      ],
      "source": [
        "model_logreg = LogisticRegression(random_state=0)\n",
        "\n",
        "model_logreg.fit(X_train, y_train)\n",
        "\n",
        "y_pred = model_logreg.predict(X_test)\n",
        "\n",
        "f1_model = f1_score(y_test, y_pred)\n",
        "f1_model"
      ]
    },
    {
      "cell_type": "markdown",
      "metadata": {
        "id": "AQu-QLtTdf04"
      },
      "source": [
        "## **Hyperparameter tuning**"
      ]
    },
    {
      "cell_type": "markdown",
      "metadata": {
        "id": "AA6mUIS1df04"
      },
      "source": [
        "#### **Logistic Regression**"
      ]
    },
    {
      "cell_type": "code",
      "execution_count": null,
      "metadata": {
        "id": "rg8o2sYTdf05"
      },
      "outputs": [],
      "source": [
        "# hyperparam space\n",
        "hyperparam_space = {\n",
        "    'model__C': [1000, 100, 10, 1, 0.1, 0.01, 0.001, 0.0001]\n",
        "}\n",
        "\n",
        "# Define vectorizer\n",
        "vect_tfidf = TfidfVectorizer()\n",
        "\n",
        "# skfold\n",
        "skfold = StratifiedKFold(n_splits=5)\n",
        "\n",
        "# Define model\n",
        "model = LogisticRegression(random_state=0)\n",
        "\n",
        "# Pipeline\n",
        "pipe = Pipeline([\n",
        "    ('prep', vect_tfidf),\n",
        "    ('model', model)\n",
        "])\n",
        "\n",
        "# Tuning\n",
        "random_search = RandomizedSearchCV(\n",
        "    pipe,\n",
        "    param_distributions = hyperparam_space,\n",
        "    cv = skfold,\n",
        "    scoring= 'f1',\n",
        "    n_jobs= -1,\n",
        "    random_state=0\n",
        ")"
      ]
    },
    {
      "cell_type": "code",
      "execution_count": null,
      "metadata": {
        "id": "TV5L3vO0df06",
        "outputId": "0f3e2e85-91af-44b2-d317-909f5effab8a"
      },
      "outputs": [
        {
          "data": {
            "text/plain": [
              "RandomizedSearchCV(cv=StratifiedKFold(n_splits=5, random_state=None, shuffle=False),\n",
              "                   estimator=Pipeline(steps=[('prep', TfidfVectorizer()),\n",
              "                                             ('model',\n",
              "                                              LogisticRegression(random_state=0))]),\n",
              "                   n_jobs=-1,\n",
              "                   param_distributions={'model__C': [1000, 100, 10, 1, 0.1,\n",
              "                                                     0.01, 0.001, 0.0001]},\n",
              "                   random_state=0, scoring='f1')"
            ]
          },
          "execution_count": 439,
          "metadata": {},
          "output_type": "execute_result"
        }
      ],
      "source": [
        "random_search.fit(text_train, y_train)"
      ]
    },
    {
      "cell_type": "code",
      "execution_count": null,
      "metadata": {
        "id": "XrJCGf4Rdf06",
        "outputId": "7ee41fb0-512b-4d90-c25f-dc032375b126"
      },
      "outputs": [
        {
          "name": "stdout",
          "output_type": "stream",
          "text": [
            "Best score logreg: 0.9654072285801343\n",
            "Best params logreg: {'model__C': 1000}\n"
          ]
        }
      ],
      "source": [
        "print('Best score logreg:', random_search.best_score_)\n",
        "print('Best params logreg:', random_search.best_params_)"
      ]
    },
    {
      "cell_type": "code",
      "execution_count": null,
      "metadata": {
        "id": "9xEr-7emdf07",
        "outputId": "02601d66-7bf1-4ccf-f981-eeb7a8213053"
      },
      "outputs": [
        {
          "data": {
            "text/html": [
              "<div>\n",
              "<style scoped>\n",
              "    .dataframe tbody tr th:only-of-type {\n",
              "        vertical-align: middle;\n",
              "    }\n",
              "\n",
              "    .dataframe tbody tr th {\n",
              "        vertical-align: top;\n",
              "    }\n",
              "\n",
              "    .dataframe thead th {\n",
              "        text-align: right;\n",
              "    }\n",
              "</style>\n",
              "<table border=\"1\" class=\"dataframe\">\n",
              "  <thead>\n",
              "    <tr style=\"text-align: right;\">\n",
              "      <th></th>\n",
              "      <th>mean_fit_time</th>\n",
              "      <th>std_fit_time</th>\n",
              "      <th>mean_score_time</th>\n",
              "      <th>std_score_time</th>\n",
              "      <th>param_model__C</th>\n",
              "      <th>params</th>\n",
              "      <th>split0_test_score</th>\n",
              "      <th>split1_test_score</th>\n",
              "      <th>split2_test_score</th>\n",
              "      <th>split3_test_score</th>\n",
              "      <th>split4_test_score</th>\n",
              "      <th>mean_test_score</th>\n",
              "      <th>std_test_score</th>\n",
              "      <th>rank_test_score</th>\n",
              "    </tr>\n",
              "  </thead>\n",
              "  <tbody>\n",
              "    <tr>\n",
              "      <th>0</th>\n",
              "      <td>3.261002</td>\n",
              "      <td>0.280771</td>\n",
              "      <td>0.265197</td>\n",
              "      <td>0.032790</td>\n",
              "      <td>1000</td>\n",
              "      <td>{'model__C': 1000}</td>\n",
              "      <td>0.954839</td>\n",
              "      <td>0.961538</td>\n",
              "      <td>0.980892</td>\n",
              "      <td>0.967742</td>\n",
              "      <td>0.962025</td>\n",
              "      <td>0.965407</td>\n",
              "      <td>0.008756</td>\n",
              "      <td>1</td>\n",
              "    </tr>\n",
              "    <tr>\n",
              "      <th>1</th>\n",
              "      <td>3.038405</td>\n",
              "      <td>0.230705</td>\n",
              "      <td>0.343799</td>\n",
              "      <td>0.080098</td>\n",
              "      <td>100</td>\n",
              "      <td>{'model__C': 100}</td>\n",
              "      <td>0.940397</td>\n",
              "      <td>0.961039</td>\n",
              "      <td>0.980892</td>\n",
              "      <td>0.954248</td>\n",
              "      <td>0.954839</td>\n",
              "      <td>0.958283</td>\n",
              "      <td>0.013167</td>\n",
              "      <td>2</td>\n",
              "    </tr>\n",
              "    <tr>\n",
              "      <th>2</th>\n",
              "      <td>2.424206</td>\n",
              "      <td>0.355254</td>\n",
              "      <td>0.269996</td>\n",
              "      <td>0.033273</td>\n",
              "      <td>10</td>\n",
              "      <td>{'model__C': 10}</td>\n",
              "      <td>0.926174</td>\n",
              "      <td>0.961039</td>\n",
              "      <td>0.967742</td>\n",
              "      <td>0.940397</td>\n",
              "      <td>0.934211</td>\n",
              "      <td>0.945913</td>\n",
              "      <td>0.015889</td>\n",
              "      <td>3</td>\n",
              "    </tr>\n",
              "    <tr>\n",
              "      <th>3</th>\n",
              "      <td>2.137806</td>\n",
              "      <td>0.202434</td>\n",
              "      <td>0.269194</td>\n",
              "      <td>0.059151</td>\n",
              "      <td>1</td>\n",
              "      <td>{'model__C': 1}</td>\n",
              "      <td>0.832117</td>\n",
              "      <td>0.865248</td>\n",
              "      <td>0.796992</td>\n",
              "      <td>0.873239</td>\n",
              "      <td>0.873239</td>\n",
              "      <td>0.848167</td>\n",
              "      <td>0.029751</td>\n",
              "      <td>4</td>\n",
              "    </tr>\n",
              "    <tr>\n",
              "      <th>4</th>\n",
              "      <td>1.615000</td>\n",
              "      <td>0.071802</td>\n",
              "      <td>0.294203</td>\n",
              "      <td>0.040988</td>\n",
              "      <td>0.1</td>\n",
              "      <td>{'model__C': 0.1}</td>\n",
              "      <td>0.095238</td>\n",
              "      <td>0.095238</td>\n",
              "      <td>0.117647</td>\n",
              "      <td>0.139535</td>\n",
              "      <td>0.117647</td>\n",
              "      <td>0.113061</td>\n",
              "      <td>0.016603</td>\n",
              "      <td>5</td>\n",
              "    </tr>\n",
              "    <tr>\n",
              "      <th>5</th>\n",
              "      <td>1.630803</td>\n",
              "      <td>0.043437</td>\n",
              "      <td>0.289796</td>\n",
              "      <td>0.026352</td>\n",
              "      <td>0.01</td>\n",
              "      <td>{'model__C': 0.01}</td>\n",
              "      <td>0.000000</td>\n",
              "      <td>0.000000</td>\n",
              "      <td>0.000000</td>\n",
              "      <td>0.000000</td>\n",
              "      <td>0.000000</td>\n",
              "      <td>0.000000</td>\n",
              "      <td>0.000000</td>\n",
              "      <td>6</td>\n",
              "    </tr>\n",
              "    <tr>\n",
              "      <th>6</th>\n",
              "      <td>1.402802</td>\n",
              "      <td>0.127797</td>\n",
              "      <td>0.269000</td>\n",
              "      <td>0.062693</td>\n",
              "      <td>0.001</td>\n",
              "      <td>{'model__C': 0.001}</td>\n",
              "      <td>0.000000</td>\n",
              "      <td>0.000000</td>\n",
              "      <td>0.000000</td>\n",
              "      <td>0.000000</td>\n",
              "      <td>0.000000</td>\n",
              "      <td>0.000000</td>\n",
              "      <td>0.000000</td>\n",
              "      <td>6</td>\n",
              "    </tr>\n",
              "    <tr>\n",
              "      <th>7</th>\n",
              "      <td>1.531205</td>\n",
              "      <td>0.032693</td>\n",
              "      <td>0.298998</td>\n",
              "      <td>0.029168</td>\n",
              "      <td>0.0001</td>\n",
              "      <td>{'model__C': 0.0001}</td>\n",
              "      <td>0.000000</td>\n",
              "      <td>0.000000</td>\n",
              "      <td>0.000000</td>\n",
              "      <td>0.000000</td>\n",
              "      <td>0.000000</td>\n",
              "      <td>0.000000</td>\n",
              "      <td>0.000000</td>\n",
              "      <td>6</td>\n",
              "    </tr>\n",
              "  </tbody>\n",
              "</table>\n",
              "</div>"
            ],
            "text/plain": [
              "   mean_fit_time  std_fit_time  mean_score_time  std_score_time  \\\n",
              "0       3.261002      0.280771         0.265197        0.032790   \n",
              "1       3.038405      0.230705         0.343799        0.080098   \n",
              "2       2.424206      0.355254         0.269996        0.033273   \n",
              "3       2.137806      0.202434         0.269194        0.059151   \n",
              "4       1.615000      0.071802         0.294203        0.040988   \n",
              "5       1.630803      0.043437         0.289796        0.026352   \n",
              "6       1.402802      0.127797         0.269000        0.062693   \n",
              "7       1.531205      0.032693         0.298998        0.029168   \n",
              "\n",
              "  param_model__C                params  split0_test_score  split1_test_score  \\\n",
              "0           1000    {'model__C': 1000}           0.954839           0.961538   \n",
              "1            100     {'model__C': 100}           0.940397           0.961039   \n",
              "2             10      {'model__C': 10}           0.926174           0.961039   \n",
              "3              1       {'model__C': 1}           0.832117           0.865248   \n",
              "4            0.1     {'model__C': 0.1}           0.095238           0.095238   \n",
              "5           0.01    {'model__C': 0.01}           0.000000           0.000000   \n",
              "6          0.001   {'model__C': 0.001}           0.000000           0.000000   \n",
              "7         0.0001  {'model__C': 0.0001}           0.000000           0.000000   \n",
              "\n",
              "   split2_test_score  split3_test_score  split4_test_score  mean_test_score  \\\n",
              "0           0.980892           0.967742           0.962025         0.965407   \n",
              "1           0.980892           0.954248           0.954839         0.958283   \n",
              "2           0.967742           0.940397           0.934211         0.945913   \n",
              "3           0.796992           0.873239           0.873239         0.848167   \n",
              "4           0.117647           0.139535           0.117647         0.113061   \n",
              "5           0.000000           0.000000           0.000000         0.000000   \n",
              "6           0.000000           0.000000           0.000000         0.000000   \n",
              "7           0.000000           0.000000           0.000000         0.000000   \n",
              "\n",
              "   std_test_score  rank_test_score  \n",
              "0        0.008756                1  \n",
              "1        0.013167                2  \n",
              "2        0.015889                3  \n",
              "3        0.029751                4  \n",
              "4        0.016603                5  \n",
              "5        0.000000                6  \n",
              "6        0.000000                6  \n",
              "7        0.000000                6  "
            ]
          },
          "execution_count": 441,
          "metadata": {},
          "output_type": "execute_result"
        }
      ],
      "source": [
        "pd.DataFrame(random_search.cv_results_).sort_values(by='rank_test_score')"
      ]
    },
    {
      "cell_type": "code",
      "execution_count": null,
      "metadata": {
        "id": "hP1THlI9df08",
        "outputId": "1634c4b2-46b0-4f6f-d636-c54fdddac5f0"
      },
      "outputs": [
        {
          "data": {
            "text/plain": [
              "0.9528795811518325"
            ]
          },
          "execution_count": 442,
          "metadata": {},
          "output_type": "execute_result"
        }
      ],
      "source": [
        "# model dengan hyperparameter tuning\n",
        "model_tuning = random_search.best_estimator_\n",
        "\n",
        "# fitting\n",
        "model_tuning.fit(text_train, y_train)\n",
        "\n",
        "# predict\n",
        "y_pred_model_tuning = model_tuning.predict(text_test)\n",
        "\n",
        "# f1 score\n",
        "f1_model_tuning = f1_score(y_test, y_pred_model_tuning)\n",
        "f1_model_tuning"
      ]
    },
    {
      "cell_type": "code",
      "execution_count": null,
      "metadata": {
        "id": "76mXrqTAdf09"
      },
      "outputs": [],
      "source": [
        "score_list = [f1_model_tuning]\n",
        "models = ['Logistic Regression']\n",
        "\n",
        "score_after_tuning = pd.DataFrame({\n",
        "    'Model': models,\n",
        "    'F1 score': score_list\n",
        "})"
      ]
    },
    {
      "cell_type": "markdown",
      "metadata": {
        "id": "Sq2nU6ZVdf09"
      },
      "source": [
        "### **Test Score Comparison**"
      ]
    },
    {
      "cell_type": "code",
      "execution_count": null,
      "metadata": {
        "id": "sQ8KrhfNdf09",
        "outputId": "ad806608-c78c-4074-9af9-5db8fb2b581a"
      },
      "outputs": [
        {
          "data": {
            "text/plain": [
              "0.8700564971751412"
            ]
          },
          "execution_count": 444,
          "metadata": {},
          "output_type": "execute_result"
        }
      ],
      "source": [
        "# before tuning\n",
        "f1_model"
      ]
    },
    {
      "cell_type": "code",
      "execution_count": null,
      "metadata": {
        "id": "ckm01XLMdf0-",
        "outputId": "0855c04b-3098-4dbe-d38d-784b8673a968"
      },
      "outputs": [
        {
          "data": {
            "text/plain": [
              "0.9528795811518325"
            ]
          },
          "execution_count": 445,
          "metadata": {},
          "output_type": "execute_result"
        }
      ],
      "source": [
        "# after tuning\n",
        "f1_model_tuning"
      ]
    },
    {
      "cell_type": "code",
      "execution_count": null,
      "metadata": {
        "id": "SZD8oYScdf0-",
        "outputId": "1129694a-906a-4bd8-c5e1-866d82b390e1"
      },
      "outputs": [
        {
          "name": "stdout",
          "output_type": "stream",
          "text": [
            "Before tuning\n",
            "               precision    recall  f1-score   support\n",
            "\n",
            "           0       0.96      1.00      0.98       500\n",
            "           1       1.00      0.77      0.87       100\n",
            "\n",
            "    accuracy                           0.96       600\n",
            "   macro avg       0.98      0.89      0.92       600\n",
            "weighted avg       0.96      0.96      0.96       600\n",
            "\n",
            "After tuning\n",
            "               precision    recall  f1-score   support\n",
            "\n",
            "           0       0.98      1.00      0.99       500\n",
            "           1       1.00      0.91      0.95       100\n",
            "\n",
            "    accuracy                           0.98       600\n",
            "   macro avg       0.99      0.96      0.97       600\n",
            "weighted avg       0.99      0.98      0.98       600\n",
            "\n"
          ]
        }
      ],
      "source": [
        "print('Before tuning\\n', classification_report(y_test, y_pred))\n",
        "print('After tuning\\n', classification_report(y_test, y_pred_model_tuning))"
      ]
    },
    {
      "cell_type": "code",
      "execution_count": null,
      "metadata": {
        "id": "tToC40pddf0_",
        "outputId": "b449e4b2-6975-4a71-8cc7-8b9eaf5c76fe"
      },
      "outputs": [
        {
          "data": {
            "image/png": "[encoded data removed]",
            "text/plain": [
              "<Figure size 576x360 with 2 Axes>"
            ]
          },
          "metadata": {
            "needs_background": "light"
          },
          "output_type": "display_data"
        }
      ],
      "source": [
        "f, ax = plt.subplots(figsize=(8, 5))\n",
        "sns.heatmap(confusion_matrix(y_test, y_pred), annot=True, fmt='.0f', ax=ax)\n",
        "plt.xlabel('y Prediksi')\n",
        "plt.ylabel('y Aktual');"
      ]
    },
    {
      "cell_type": "code",
      "execution_count": null,
      "metadata": {
        "id": "iyh26h5gdf1A",
        "outputId": "8dea4d93-07a0-483a-88d1-3f8355a09657"
      },
      "outputs": [
        {
          "data": {
            "image/png": "[encoded data removed]",
            "text/plain": [
              "<Figure size 576x360 with 2 Axes>"
            ]
          },
          "metadata": {
            "needs_background": "light"
          },
          "output_type": "display_data"
        }
      ],
      "source": [
        "f, ax = plt.subplots(figsize=(8, 5))\n",
        "sns.heatmap(confusion_matrix(y_test, y_pred_model_tuning), annot=True, fmt='.0f', ax=ax)\n",
        "plt.xlabel('y Prediksi')\n",
        "plt.ylabel('y Aktual');"
      ]
    },
    {
      "cell_type": "markdown",
      "metadata": {
        "id": "Yd6sK2h5df1B"
      },
      "source": [
        "## **Summary**\n",
        "\n",
        "- Dalam modeling klasifikasi email spam ini kita menggunakan Logistic Regression.\n",
        "- Dalam kasus klasifikasi email spam, kita bisa menggunakan metric Precision karena kita fokus untuk melakukan minimalisasi pada False Positive (email bukan spam yang diprediksi sebagai email spam).\n",
        "- Jika menggunakan Precision, benchmark model sudah memiliki Precision 1.0 dan setelah dilakukan hyperparameter tuning pun nilai Precision tetap 1.0 alias prediksinya sempurna.\n",
        "- Kita harus berhati-hati dengan model yang performanya terlalu bagus karena ada kemungkinan terjadi overfitting.   \n",
        "- Hyperparameter tuning berhasil meningkatkan performa model dalam memprediksi apakah suatu email termasuk spam atau bukan, dilihat dari nilai f1 score yang asalnya 0.87 menjadi 0.95 setelah tuning.\n",
        "- Improvement terjadi dari False Negative yang awalnya berjumlah 23 email, berkurang menjadi 9 email setelah tuning.\n"
      ]
    },
    {
      "cell_type": "markdown",
      "source": [
        "## **Latihan Recommendation System (Content Based Filtering)**<br>\n",
        "### **Gunakan dataset anime**\n",
        "\n",
        "### **Content based filtering for one user**\n",
        "\n",
        "- Drop missing values\n",
        "- Vectorize untuk mendapatkan tiap nilai genre untuk tiap anime (item-feature matrix with rating)\n",
        "- Pilih 3 anime yang disukai user (bebas)\n",
        "- Buat user feature vector\n",
        "- Cari 10 rekomendasi anime untuk user"
      ],
      "metadata": {
        "id": "bpS8ik-bdMAW"
      }
    },
    {
      "cell_type": "markdown",
      "source": [
        "# **Content Based Filtering for Multiple Users**<br>\n",
        "**Rekomendasikan masing-masing 10 anime untuk setiap user**\n",
        "\n",
        "Buatlah:\n",
        "- Item feature: anime_id, name, genre\n",
        "- Buat user-item rating matrix di mana isinya adalah 4 user dan 4 anime yang sudah diberi rating oleh keempat user tersebut (buat secara random saja)\n",
        "- Buat item-feature matrix untuk semua anime dan filter-lah untuk 4 anime yang sudah diberi rating\n",
        "- Buat user feature matrix dan user feature vector-nya\n",
        "- Buat rekomendasi untuk anime yang belum ditonton\n",
        "- Sort dan filtering 10 rekomendasi anime untuk tiap user"
      ],
      "metadata": {
        "id": "6PRKOQxwpgAb"
      }
    }
  ],
  "metadata": {
    "interpreter": {
      "hash": "37eb40c3388cfde35488e2d005b0d69ca91ddeff8a429754d4da636d3f888e5e"
    },
    "kernelspec": {
      "display_name": "Python 3.7.6 64-bit ('base': conda)",
      "name": "python3"
    },
    "language_info": {
      "codemirror_mode": {
        "name": "ipython",
        "version": 3
      },
      "file_extension": ".py",
      "mimetype": "text/x-python",
      "name": "python",
      "nbconvert_exporter": "python",
      "pygments_lexer": "ipython3",
      "version": "3.7.6"
    },
    "orig_nbformat": 2,
    "colab": {
      "provenance": [],
      "toc_visible": true
    }
  },
  "nbformat": 4,
  "nbformat_minor": 0
}